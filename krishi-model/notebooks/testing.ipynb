{
 "cells": [
  {
   "cell_type": "code",
   "execution_count": 17,
   "id": "429032a5",
   "metadata": {},
   "outputs": [],
   "source": [
    "import os\n",
    "import sqlite3\n",
    "import json\n",
    "from typing import List, Dict\n",
    "import numpy as np\n",
    "import tensorflow as tf\n",
    "from tensorflow.keras.models import load_model\n",
    "from tensorflow.keras.preprocessing import image\n",
    "import faiss\n",
    "from sentence_transformers import SentenceTransformer"
   ]
  },
  {
   "cell_type": "code",
   "execution_count": 18,
   "id": "301c2e01",
   "metadata": {},
   "outputs": [],
   "source": [
    "MODEL_PATH = \"model/best_model.h5\"\n",
    "SQLITE_DB = \"crop_diseases_rag.db\"\n",
    "FAISS_INDEX_PATH = \"crop_diseases.faiss\"\n",
    "EMBED_MODEL_NAME = \"all-MiniLM-L6-v2\"\n",
    "TOP_K = 3"
   ]
  },
  {
   "cell_type": "code",
   "execution_count": 19,
   "id": "fea9ebd4",
   "metadata": {},
   "outputs": [],
   "source": [
    "# Labels (same order as training)\n",
    "LABELS = [\n",
    "    \"Corn___Common_Rust\",\n",
    "    \"Corn___Gray_Leaf_Spot\",\n",
    "    \"Corn___Healthy\",\n",
    "    \"Corn___Northern_Leaf_Blight\",\n",
    "    \"Potato___Early_Blight\",\n",
    "    \"Potato___Healthy\",\n",
    "    \"Potato___Late_Blight\",\n",
    "    \"Rice___Brown_Spot\",\n",
    "    \"Rice___Healthy\",\n",
    "    \"Rice___Leaf_Blast\",\n",
    "    \"Rice___Neck_Blast\",\n",
    "    \"Sugarcane_Bacterial Blight\",\n",
    "    \"Sugarcane_Healthy\",\n",
    "    \"Sugarcane_Red Rot\",\n",
    "    \"Wheat___Brown_Rust\",\n",
    "    \"Wheat___Healthy\",\n",
    "    \"Wheat___Yellow_Rust\"\n",
    "]\n"
   ]
  },
  {
   "cell_type": "code",
   "execution_count": 20,
   "id": "47bda219",
   "metadata": {},
   "outputs": [
    {
     "name": "stdout",
     "output_type": "stream",
     "text": [
      "Loading MobileNetV2 model...\n"
     ]
    },
    {
     "name": "stderr",
     "output_type": "stream",
     "text": [
      "WARNING:absl:Compiled the loaded model, but the compiled metrics have yet to be built. `model.compile_metrics` will be empty until you train or evaluate the model.\n"
     ]
    },
    {
     "name": "stdout",
     "output_type": "stream",
     "text": [
      "Loading embedding model...\n",
      "Loading FAISS index...\n"
     ]
    }
   ],
   "source": [
    "print(\"Loading MobileNetV2 model...\")\n",
    "model = load_model(MODEL_PATH)\n",
    "\n",
    "print(\"Loading embedding model...\")\n",
    "embedder = SentenceTransformer(EMBED_MODEL_NAME)\n",
    "\n",
    "print(\"Loading FAISS index...\")\n",
    "index = faiss.read_index(FAISS_INDEX_PATH)\n",
    "\n",
    "# Load FAISS metadata\n",
    "import json\n",
    "with open(\"faiss_metadata.json\", \"r\", encoding=\"utf-8\") as f:\n",
    "    metadata = json.load(f)"
   ]
  },
  {
   "cell_type": "code",
   "execution_count": 21,
   "id": "d1ee03fd",
   "metadata": {},
   "outputs": [],
   "source": [
    "def retrieve_by_text(query: str, top_k:int = TOP_K) -> List[Dict]:\n",
    "    q_emb = embedder.encode([query], convert_to_numpy=True).astype('float32')\n",
    "    faiss.normalize_L2(q_emb)\n",
    "    D, I = index.search(q_emb, top_k)\n",
    "    results = []\n",
    "    for score, idx in zip(D[0].tolist(), I[0].tolist()):\n",
    "        if idx < 0 or idx >= len(sqlite_ids):\n",
    "            continue\n",
    "        sqlite_id = sqlite_ids[str(idx)]\n",
    "        conn = sqlite3.connect(SQLITE_DB)\n",
    "        cur = conn.cursor()\n",
    "        cur.execute(\"\"\"\n",
    "            SELECT label, crop, disease, why_en, precautions_en, remedies_en, \n",
    "                   why_hi, precautions_hi, remedies_hi \n",
    "            FROM disease_kb WHERE id=?\"\"\", (sqlite_id,))\n",
    "        row = cur.fetchone()\n",
    "        conn.close()\n",
    "        if not row:\n",
    "            continue\n",
    "        results.append({\n",
    "            \"label\": row[0],\n",
    "            \"crop\": row[1],\n",
    "            \"disease\": row[2],\n",
    "            \"why_en\": row[3],\n",
    "            \"precautions_en\": row[4],\n",
    "            \"remedies_en\": row[5],\n",
    "            \"why_hi\": row[6],\n",
    "            \"precautions_hi\": row[7],\n",
    "            \"remedies_hi\": row[8],\n",
    "            \"score\": float(score)\n",
    "        })\n",
    "    return results\n",
    "\n",
    "def get_info_by_label(label:str, top_k:int=1) -> Dict:\n",
    "    # First try exact lookup\n",
    "    conn = sqlite3.connect(SQLITE_DB)\n",
    "    cur = conn.cursor()\n",
    "    cur.execute(\"\"\"\n",
    "        SELECT label, crop, disease, why_en, precautions_en, remedies_en, \n",
    "               why_hi, precautions_hi, remedies_hi \n",
    "        FROM disease_kb WHERE label=?\"\"\", (label,))\n",
    "    row = cur.fetchone()\n",
    "    conn.close()\n",
    "    if row:\n",
    "        return {\n",
    "            \"label\": row[0],\n",
    "            \"crop\": row[1],\n",
    "            \"disease\": row[2],\n",
    "            \"english\": {\n",
    "                \"why\": row[3],\n",
    "                \"precautions\": row[4],\n",
    "                \"remedies\": row[5]\n",
    "            },\n",
    "            \"hindi\": {\n",
    "                \"why\": row[6],\n",
    "                \"precautions\": row[7],\n",
    "                \"remedies\": row[8]\n",
    "            },\n",
    "            \"source\": \"local_db\"\n",
    "        }\n",
    "    # Fallback to embedding search\n",
    "    fallback_query = label.replace(\"___\",\" \").replace(\"_\",\" \")\n",
    "    retrieved = retrieve_by_text(fallback_query, top_k=top_k)\n",
    "    if not retrieved:\n",
    "        return {\"error\": \"not found\"}\n",
    "    top = retrieved[0]\n",
    "    return {\n",
    "        \"label\": top[\"label\"],\n",
    "        \"crop\": top[\"crop\"],\n",
    "        \"disease\": top[\"disease\"],\n",
    "        \"english\": {\n",
    "            \"why\": top[\"why_en\"], \n",
    "            \"precautions\": top[\"precautions_en\"], \n",
    "            \"remedies\": top[\"remedies_en\"]\n",
    "        },\n",
    "        \"hindi\": {\n",
    "            \"why\": top[\"why_hi\"], \n",
    "            \"precautions\": top[\"precautions_hi\"], \n",
    "            \"remedies\": top[\"remedies_hi\"]\n",
    "        },\n",
    "        \"score\": top[\"score\"],\n",
    "        \"source\": \"embedding_retrieval\"\n",
    "    }"
   ]
  },
  {
   "cell_type": "code",
   "execution_count": 22,
   "id": "b5b71868",
   "metadata": {},
   "outputs": [],
   "source": [
    "def predict_disease(img_path):\n",
    "    img = image.load_img(img_path, target_size=(224, 224))\n",
    "    img_array = image.img_to_array(img) / 255.0\n",
    "    img_array = np.expand_dims(img_array, axis=0)\n",
    "    preds = model.predict(img_array)\n",
    "    pred_idx = np.argmax(preds)\n",
    "    return LABELS[pred_idx]"
   ]
  },
  {
   "cell_type": "code",
   "execution_count": 23,
   "id": "c79770d2",
   "metadata": {},
   "outputs": [
    {
     "name": "stdout",
     "output_type": "stream",
     "text": [
      "\u001b[1m1/1\u001b[0m \u001b[32m━━━━━━━━━━━━━━━━━━━━\u001b[0m\u001b[37m\u001b[0m \u001b[1m2s\u001b[0m 2s/step\n",
      "Predicted Label: Corn___Common_Rust\n"
     ]
    }
   ],
   "source": [
    "test_image = r\"E:\\Krishi-Sahayak\\krishi-model\\SplitData\\test\\Corn___Common_Rust\\image (4).JPG\"\n",
    "predicted_label = predict_disease(test_image)\n",
    "print(f\"Predicted Label: {predicted_label}\")"
   ]
  },
  {
   "cell_type": "code",
   "execution_count": 24,
   "id": "5f23616a",
   "metadata": {},
   "outputs": [
    {
     "name": "stdout",
     "output_type": "stream",
     "text": [
      "\n",
      "=== Result ===\n",
      "Crop: Corn\n",
      "Disease: Common Rust\n",
      "\n",
      "--- English ---\n",
      "Why: Caused by the fungus Puccinia sorghi; develops in moderate temperatures (16–25°C) and high humidity; spreads by wind-borne spores.\n",
      "Precautions: Grow rust-resistant hybrids; rotate with non-host crops; destroy volunteer corn and grassy weeds.\n",
      "Remedies: Apply foliar fungicides (strobilurins or triazoles) when conditions favor disease; monitor regularly.\n",
      "\n",
      "--- Hindi ---\n",
      "क्यों: यह रोग Puccinia sorghi कवक के कारण होता है; 16–25°C तापमान और उच्च आर्द्रता में बढ़ता है; हवा से फैलने वाले स्पोर्स के द्वारा फैलता है।\n",
      "सावधानियाँ: रस्ट-प्रतिरोधी किस्में उगाएँ; नॉन-होस्ट फसलों के साथ रोटेशन करें; खेत में जंगली मक्का और घास नष्ट करें।\n",
      "उपचार: जब बीमारी के अनुकूल मौसम हो तो पत्ती-छिड़काव के लिए स्ट्रोबिल्यूरिन या ट्रायाज़ोल समूह के फंगीसाइड का उपयोग करें; नियमित निगरानी रखें।\n"
     ]
    }
   ],
   "source": [
    "info = get_info_by_label(predicted_label)\n",
    "print(\"\\n=== Result ===\")\n",
    "print(\"Crop:\", info[\"crop\"])\n",
    "print(\"Disease:\", info[\"disease\"])\n",
    "print(\"\\n--- English ---\")\n",
    "print(\"Why:\", info[\"english\"][\"why\"])\n",
    "print(\"Precautions:\", info[\"english\"][\"precautions\"])\n",
    "print(\"Remedies:\", info[\"english\"][\"remedies\"])\n",
    "print(\"\\n--- Hindi ---\")\n",
    "print(\"क्यों:\", info[\"hindi\"][\"why\"])\n",
    "print(\"सावधानियाँ:\", info[\"hindi\"][\"precautions\"])\n",
    "print(\"उपचार:\", info[\"hindi\"][\"remedies\"])"
   ]
  },
  {
   "cell_type": "code",
   "execution_count": null,
   "id": "448ea747",
   "metadata": {},
   "outputs": [],
   "source": []
  }
 ],
 "metadata": {
  "kernelspec": {
   "display_name": "Python 3",
   "language": "python",
   "name": "python3"
  },
  "language_info": {
   "codemirror_mode": {
    "name": "ipython",
    "version": 3
   },
   "file_extension": ".py",
   "mimetype": "text/x-python",
   "name": "python",
   "nbconvert_exporter": "python",
   "pygments_lexer": "ipython3",
   "version": "3.11.9"
  }
 },
 "nbformat": 4,
 "nbformat_minor": 5
}
