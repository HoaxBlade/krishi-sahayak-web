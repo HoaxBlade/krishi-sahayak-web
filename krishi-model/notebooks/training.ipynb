{
 "cells": [
  {
   "cell_type": "code",
   "execution_count": 6,
   "id": "688c33d6",
   "metadata": {},
   "outputs": [],
   "source": [
    "import os\n",
    "import shutil\n",
    "import random\n",
    "import tensorflow as tf\n",
    "from tensorflow.keras.preprocessing.image import ImageDataGenerator\n",
    "from tensorflow.keras.applications import MobileNetV2\n",
    "from tensorflow.keras.models import Model\n",
    "from tensorflow.keras.layers import GlobalAveragePooling2D, Dense, Dropout, BatchNormalization\n",
    "from tensorflow.keras.callbacks import EarlyStopping, ReduceLROnPlateau, ModelCheckpoint\n",
    "import matplotlib.pyplot as plt"
   ]
  },
  {
   "cell_type": "markdown",
   "id": "12451d20",
   "metadata": {},
   "source": [
    "Config"
   ]
  },
  {
   "cell_type": "code",
   "execution_count": 11,
   "id": "f2b3d7a2",
   "metadata": {},
   "outputs": [],
   "source": [
    "IMG_SIZE = 224\n",
    "BATCH_SIZE = 32\n",
    "INITIAL_EPOCHS = 50\n",
    "FINE_TUNE_EPOCHS = 70\n",
    "TOTAL_EPOCHS = INITIAL_EPOCHS + FINE_TUNE_EPOCHS\n",
    "\n",
    "ORIG_DATA_DIR = r'E:\\Krishi-Sahayak\\krishi-model\\Data'  # original dataset folder\n",
    "DATA_DIR = r'E:\\Krishi-Sahayak\\krishi-model\\SplitData' # folder where split dataset will be saved"
   ]
  },
  {
   "cell_type": "markdown",
   "id": "1ed17af3",
   "metadata": {},
   "source": [
    "Split Data"
   ]
  },
  {
   "cell_type": "code",
   "execution_count": 8,
   "id": "c1083e2b",
   "metadata": {},
   "outputs": [],
   "source": [
    "def split_data(source_dir, dest_dir, train_ratio=0.7, val_ratio=0.2, test_ratio=0.1, seed=42):\n",
    "    random.seed(seed)\n",
    "    assert abs(train_ratio + val_ratio + test_ratio - 1.0) < 1e-6, \"Ratios must sum to 1.\"\n",
    "\n",
    "    classes = [d for d in os.listdir(source_dir) if os.path.isdir(os.path.join(source_dir, d))]\n",
    "    print(f\"Classes found: {classes}\")\n",
    "\n",
    "    for cls in classes:\n",
    "        cls_path = os.path.join(source_dir, cls)\n",
    "        files = [f for f in os.listdir(cls_path) if os.path.isfile(os.path.join(cls_path, f))]\n",
    "        random.shuffle(files)\n",
    "\n",
    "        n_total = len(files)\n",
    "        n_train = int(train_ratio * n_total)\n",
    "        n_val = int(val_ratio * n_total)\n",
    "        n_test = n_total - n_train - n_val\n",
    "\n",
    "        splits = {\n",
    "            'train': files[:n_train],\n",
    "            'val': files[n_train:n_train+n_val],\n",
    "            'test': files[n_train+n_val:]\n",
    "        }\n",
    "\n",
    "        for split_name, split_files in splits.items():\n",
    "            split_dir = os.path.join(dest_dir, split_name, cls)\n",
    "            os.makedirs(split_dir, exist_ok=True)\n",
    "\n",
    "            for file_name in split_files:\n",
    "                src_file = os.path.join(cls_path, file_name)\n",
    "                dst_file = os.path.join(split_dir, file_name)\n",
    "                if not os.path.exists(dst_file):\n",
    "                    shutil.copy2(src_file, dst_file)\n",
    "            print(f\"Copied {len(split_files)} files to {split_dir}\")"
   ]
  },
  {
   "cell_type": "code",
   "execution_count": null,
   "id": "30f5e10d",
   "metadata": {},
   "outputs": [
    {
     "name": "stdout",
     "output_type": "stream",
     "text": [
      "Classes found: ['Corn___Common_Rust', 'Corn___Gray_Leaf_Spot', 'Corn___Healthy', 'Corn___Northern_Leaf_Blight', 'Potato___Early_Blight', 'Potato___Healthy', 'Potato___Late_Blight', 'Rice___Brown_Spot', 'Rice___Healthy', 'Rice___Leaf_Blast', 'Rice___Neck_Blast', 'Sugarcane_Bacterial Blight', 'Sugarcane_Healthy', 'Sugarcane_Red Rot', 'Wheat___Brown_Rust', 'Wheat___Healthy', 'Wheat___Yellow_Rust']\n",
      "Copied 715 files to E:\\Krishi-Sahayak\\krishi-model\\SplitData\\train\\Corn___Common_Rust\n",
      "Copied 238 files to E:\\Krishi-Sahayak\\krishi-model\\SplitData\\val\\Corn___Common_Rust\n",
      "Copied 239 files to E:\\Krishi-Sahayak\\krishi-model\\SplitData\\test\\Corn___Common_Rust\n",
      "Copied 307 files to E:\\Krishi-Sahayak\\krishi-model\\SplitData\\train\\Corn___Gray_Leaf_Spot\n",
      "Copied 102 files to E:\\Krishi-Sahayak\\krishi-model\\SplitData\\val\\Corn___Gray_Leaf_Spot\n",
      "Copied 104 files to E:\\Krishi-Sahayak\\krishi-model\\SplitData\\test\\Corn___Gray_Leaf_Spot\n",
      "Copied 697 files to E:\\Krishi-Sahayak\\krishi-model\\SplitData\\train\\Corn___Healthy\n",
      "Copied 232 files to E:\\Krishi-Sahayak\\krishi-model\\SplitData\\val\\Corn___Healthy\n",
      "Copied 233 files to E:\\Krishi-Sahayak\\krishi-model\\SplitData\\test\\Corn___Healthy\n",
      "Copied 591 files to E:\\Krishi-Sahayak\\krishi-model\\SplitData\\train\\Corn___Northern_Leaf_Blight\n",
      "Copied 197 files to E:\\Krishi-Sahayak\\krishi-model\\SplitData\\val\\Corn___Northern_Leaf_Blight\n",
      "Copied 197 files to E:\\Krishi-Sahayak\\krishi-model\\SplitData\\test\\Corn___Northern_Leaf_Blight\n",
      "Copied 600 files to E:\\Krishi-Sahayak\\krishi-model\\SplitData\\train\\Potato___Early_Blight\n",
      "Copied 200 files to E:\\Krishi-Sahayak\\krishi-model\\SplitData\\val\\Potato___Early_Blight\n",
      "Copied 200 files to E:\\Krishi-Sahayak\\krishi-model\\SplitData\\test\\Potato___Early_Blight\n",
      "Copied 91 files to E:\\Krishi-Sahayak\\krishi-model\\SplitData\\train\\Potato___Healthy\n",
      "Copied 30 files to E:\\Krishi-Sahayak\\krishi-model\\SplitData\\val\\Potato___Healthy\n",
      "Copied 31 files to E:\\Krishi-Sahayak\\krishi-model\\SplitData\\test\\Potato___Healthy\n",
      "Copied 600 files to E:\\Krishi-Sahayak\\krishi-model\\SplitData\\train\\Potato___Late_Blight\n",
      "Copied 200 files to E:\\Krishi-Sahayak\\krishi-model\\SplitData\\val\\Potato___Late_Blight\n",
      "Copied 200 files to E:\\Krishi-Sahayak\\krishi-model\\SplitData\\test\\Potato___Late_Blight\n",
      "Copied 367 files to E:\\Krishi-Sahayak\\krishi-model\\SplitData\\train\\Rice___Brown_Spot\n",
      "Copied 122 files to E:\\Krishi-Sahayak\\krishi-model\\SplitData\\val\\Rice___Brown_Spot\n",
      "Copied 124 files to E:\\Krishi-Sahayak\\krishi-model\\SplitData\\test\\Rice___Brown_Spot\n",
      "Copied 892 files to E:\\Krishi-Sahayak\\krishi-model\\SplitData\\train\\Rice___Healthy\n",
      "Copied 297 files to E:\\Krishi-Sahayak\\krishi-model\\SplitData\\val\\Rice___Healthy\n",
      "Copied 299 files to E:\\Krishi-Sahayak\\krishi-model\\SplitData\\test\\Rice___Healthy\n",
      "Copied 586 files to E:\\Krishi-Sahayak\\krishi-model\\SplitData\\train\\Rice___Leaf_Blast\n",
      "Copied 195 files to E:\\Krishi-Sahayak\\krishi-model\\SplitData\\val\\Rice___Leaf_Blast\n",
      "Copied 196 files to E:\\Krishi-Sahayak\\krishi-model\\SplitData\\test\\Rice___Leaf_Blast\n",
      "Copied 600 files to E:\\Krishi-Sahayak\\krishi-model\\SplitData\\train\\Rice___Neck_Blast\n",
      "Copied 200 files to E:\\Krishi-Sahayak\\krishi-model\\SplitData\\val\\Rice___Neck_Blast\n",
      "Copied 200 files to E:\\Krishi-Sahayak\\krishi-model\\SplitData\\test\\Rice___Neck_Blast\n",
      "Copied 60 files to E:\\Krishi-Sahayak\\krishi-model\\SplitData\\train\\Sugarcane_Bacterial Blight\n",
      "Copied 20 files to E:\\Krishi-Sahayak\\krishi-model\\SplitData\\val\\Sugarcane_Bacterial Blight\n",
      "Copied 20 files to E:\\Krishi-Sahayak\\krishi-model\\SplitData\\test\\Sugarcane_Bacterial Blight\n",
      "Copied 60 files to E:\\Krishi-Sahayak\\krishi-model\\SplitData\\train\\Sugarcane_Healthy\n",
      "Copied 20 files to E:\\Krishi-Sahayak\\krishi-model\\SplitData\\val\\Sugarcane_Healthy\n",
      "Copied 20 files to E:\\Krishi-Sahayak\\krishi-model\\SplitData\\test\\Sugarcane_Healthy\n",
      "Copied 60 files to E:\\Krishi-Sahayak\\krishi-model\\SplitData\\train\\Sugarcane_Red Rot\n",
      "Copied 20 files to E:\\Krishi-Sahayak\\krishi-model\\SplitData\\val\\Sugarcane_Red Rot\n",
      "Copied 20 files to E:\\Krishi-Sahayak\\krishi-model\\SplitData\\test\\Sugarcane_Red Rot\n",
      "Copied 541 files to E:\\Krishi-Sahayak\\krishi-model\\SplitData\\train\\Wheat___Brown_Rust\n",
      "Copied 180 files to E:\\Krishi-Sahayak\\krishi-model\\SplitData\\val\\Wheat___Brown_Rust\n",
      "Copied 181 files to E:\\Krishi-Sahayak\\krishi-model\\SplitData\\test\\Wheat___Brown_Rust\n",
      "Copied 669 files to E:\\Krishi-Sahayak\\krishi-model\\SplitData\\train\\Wheat___Healthy\n",
      "Copied 223 files to E:\\Krishi-Sahayak\\krishi-model\\SplitData\\val\\Wheat___Healthy\n",
      "Copied 224 files to E:\\Krishi-Sahayak\\krishi-model\\SplitData\\test\\Wheat___Healthy\n",
      "Copied 554 files to E:\\Krishi-Sahayak\\krishi-model\\SplitData\\train\\Wheat___Yellow_Rust\n",
      "Copied 184 files to E:\\Krishi-Sahayak\\krishi-model\\SplitData\\val\\Wheat___Yellow_Rust\n",
      "Copied 186 files to E:\\Krishi-Sahayak\\krishi-model\\SplitData\\test\\Wheat___Yellow_Rust\n"
     ]
    }
   ],
   "source": [
    "# split_data(ORIG_DATA_DIR, DATA_DIR, train_ratio=0.6, val_ratio=0.2, test_ratio=0.2)"
   ]
  },
  {
   "cell_type": "markdown",
   "id": "e00d53c0",
   "metadata": {},
   "source": [
    "Data Generators"
   ]
  },
  {
   "cell_type": "code",
   "execution_count": 12,
   "id": "e811c819",
   "metadata": {},
   "outputs": [
    {
     "name": "stdout",
     "output_type": "stream",
     "text": [
      "Found 7990 images belonging to 17 classes.\n",
      "Found 2660 images belonging to 17 classes.\n",
      "Found 2674 images belonging to 17 classes.\n"
     ]
    }
   ],
   "source": [
    "train_datagen = ImageDataGenerator(\n",
    "    rescale=1./255,\n",
    "    rotation_range=15,\n",
    "    zoom_range=0.15,\n",
    "    shear_range=0.15,\n",
    "    horizontal_flip=True,\n",
    "    brightness_range=[0.8, 1.2],\n",
    "    fill_mode='nearest'\n",
    ")\n",
    "\n",
    "val_datagen = ImageDataGenerator(rescale=1./255)\n",
    "test_datagen = ImageDataGenerator(rescale=1./255)\n",
    "\n",
    "train_generator = train_datagen.flow_from_directory(\n",
    "    os.path.join(DATA_DIR, 'train'),\n",
    "    target_size=(IMG_SIZE, IMG_SIZE),\n",
    "    batch_size=BATCH_SIZE,\n",
    "    class_mode='categorical'\n",
    ")\n",
    "\n",
    "val_generator = val_datagen.flow_from_directory(\n",
    "    os.path.join(DATA_DIR, 'val'),\n",
    "    target_size=(IMG_SIZE, IMG_SIZE),\n",
    "    batch_size=BATCH_SIZE,\n",
    "    class_mode='categorical'\n",
    ")\n",
    "\n",
    "test_generator = test_datagen.flow_from_directory(\n",
    "    os.path.join(DATA_DIR, 'test'),\n",
    "    target_size=(IMG_SIZE, IMG_SIZE),\n",
    "    batch_size=BATCH_SIZE,\n",
    "    class_mode='categorical',\n",
    "    shuffle=False\n",
    ")\n",
    "\n",
    "# Save labels for inference\n",
    "os.makedirs(\"model\", exist_ok=True)\n",
    "with open(\"model/labels.txt\", \"w\") as f:\n",
    "    for label in train_generator.class_indices:\n",
    "        f.write(f\"{label}\\n\")"
   ]
  },
  {
   "cell_type": "markdown",
   "id": "fe0602fe",
   "metadata": {},
   "source": [
    "Build Model"
   ]
  },
  {
   "cell_type": "code",
   "execution_count": 13,
   "id": "5cf2e7c2",
   "metadata": {},
   "outputs": [],
   "source": [
    "base_model = MobileNetV2(input_shape=(IMG_SIZE, IMG_SIZE, 3),\n",
    "                         include_top=False,\n",
    "                         weights='imagenet')\n",
    "\n",
    "x = base_model.output\n",
    "x = GlobalAveragePooling2D()(x)\n",
    "x = BatchNormalization()(x)\n",
    "x = Dense(256, activation='relu')(x)\n",
    "x = Dropout(0.5)(x)\n",
    "preds = Dense(train_generator.num_classes, activation='softmax')(x)\n",
    "\n",
    "model = Model(inputs=base_model.input, outputs=preds)\n",
    "\n",
    "# Freeze the base model initially\n",
    "for layer in base_model.layers:\n",
    "    layer.trainable = False\n",
    "\n",
    "model.compile(optimizer=tf.keras.optimizers.Adam(learning_rate=1e-3),\n",
    "              loss='categorical_crossentropy',\n",
    "              metrics=['accuracy'])"
   ]
  },
  {
   "cell_type": "code",
   "execution_count": 14,
   "id": "92add5d2",
   "metadata": {},
   "outputs": [],
   "source": [
    "early_stopping = EarlyStopping(monitor='val_loss', patience=7, restore_best_weights=True, verbose=1)\n",
    "reduce_lr = ReduceLROnPlateau(monitor='val_loss', factor=0.5, patience=3, verbose=1)\n",
    "checkpoint = ModelCheckpoint('model/best_model.h5', monitor='val_loss', save_best_only=True, verbose=1)"
   ]
  },
  {
   "cell_type": "markdown",
   "id": "f2aace76",
   "metadata": {},
   "source": [
    "Initial training"
   ]
  },
  {
   "cell_type": "code",
   "execution_count": 16,
   "id": "dda5e7f0",
   "metadata": {},
   "outputs": [
    {
     "name": "stdout",
     "output_type": "stream",
     "text": [
      "Epoch 1/50\n",
      "\u001b[1m250/250\u001b[0m \u001b[32m━━━━━━━━━━━━━━━━━━━━\u001b[0m\u001b[37m\u001b[0m \u001b[1m0s\u001b[0m 883ms/step - accuracy: 0.7624 - loss: 0.7465\n",
      "Epoch 1: val_loss improved from inf to 0.33019, saving model to model/best_model.h5\n"
     ]
    },
    {
     "name": "stderr",
     "output_type": "stream",
     "text": [
      "WARNING:absl:You are saving your model as an HDF5 file via `model.save()` or `keras.saving.save_model(model)`. This file format is considered legacy. We recommend using instead the native Keras format, e.g. `model.save('my_model.keras')` or `keras.saving.save_model(model, 'my_model.keras')`. \n"
     ]
    },
    {
     "name": "stdout",
     "output_type": "stream",
     "text": [
      "\u001b[1m250/250\u001b[0m \u001b[32m━━━━━━━━━━━━━━━━━━━━\u001b[0m\u001b[37m\u001b[0m \u001b[1m273s\u001b[0m 1s/step - accuracy: 0.7626 - loss: 0.7460 - val_accuracy: 0.8703 - val_loss: 0.3302 - learning_rate: 0.0010\n",
      "Epoch 2/50\n",
      "\u001b[1m250/250\u001b[0m \u001b[32m━━━━━━━━━━━━━━━━━━━━\u001b[0m\u001b[37m\u001b[0m \u001b[1m0s\u001b[0m 754ms/step - accuracy: 0.8602 - loss: 0.3968\n",
      "Epoch 2: val_loss did not improve from 0.33019\n",
      "\u001b[1m250/250\u001b[0m \u001b[32m━━━━━━━━━━━━━━━━━━━━\u001b[0m\u001b[37m\u001b[0m \u001b[1m232s\u001b[0m 929ms/step - accuracy: 0.8602 - loss: 0.3968 - val_accuracy: 0.8786 - val_loss: 0.3321 - learning_rate: 0.0010\n",
      "Epoch 3/50\n",
      "\u001b[1m250/250\u001b[0m \u001b[32m━━━━━━━━━━━━━━━━━━━━\u001b[0m\u001b[37m\u001b[0m \u001b[1m0s\u001b[0m 775ms/step - accuracy: 0.8649 - loss: 0.3548\n",
      "Epoch 3: val_loss improved from 0.33019 to 0.29387, saving model to model/best_model.h5\n"
     ]
    },
    {
     "name": "stderr",
     "output_type": "stream",
     "text": [
      "WARNING:absl:You are saving your model as an HDF5 file via `model.save()` or `keras.saving.save_model(model)`. This file format is considered legacy. We recommend using instead the native Keras format, e.g. `model.save('my_model.keras')` or `keras.saving.save_model(model, 'my_model.keras')`. \n"
     ]
    },
    {
     "name": "stdout",
     "output_type": "stream",
     "text": [
      "\u001b[1m250/250\u001b[0m \u001b[32m━━━━━━━━━━━━━━━━━━━━\u001b[0m\u001b[37m\u001b[0m \u001b[1m237s\u001b[0m 950ms/step - accuracy: 0.8649 - loss: 0.3548 - val_accuracy: 0.8895 - val_loss: 0.2939 - learning_rate: 0.0010\n",
      "Epoch 4/50\n",
      "\u001b[1m250/250\u001b[0m \u001b[32m━━━━━━━━━━━━━━━━━━━━\u001b[0m\u001b[37m\u001b[0m \u001b[1m0s\u001b[0m 765ms/step - accuracy: 0.8680 - loss: 0.3370\n",
      "Epoch 4: val_loss improved from 0.29387 to 0.27326, saving model to model/best_model.h5\n"
     ]
    },
    {
     "name": "stderr",
     "output_type": "stream",
     "text": [
      "WARNING:absl:You are saving your model as an HDF5 file via `model.save()` or `keras.saving.save_model(model)`. This file format is considered legacy. We recommend using instead the native Keras format, e.g. `model.save('my_model.keras')` or `keras.saving.save_model(model, 'my_model.keras')`. \n"
     ]
    },
    {
     "name": "stdout",
     "output_type": "stream",
     "text": [
      "\u001b[1m250/250\u001b[0m \u001b[32m━━━━━━━━━━━━━━━━━━━━\u001b[0m\u001b[37m\u001b[0m \u001b[1m236s\u001b[0m 944ms/step - accuracy: 0.8680 - loss: 0.3370 - val_accuracy: 0.8962 - val_loss: 0.2733 - learning_rate: 0.0010\n",
      "Epoch 5/50\n",
      "\u001b[1m250/250\u001b[0m \u001b[32m━━━━━━━━━━━━━━━━━━━━\u001b[0m\u001b[37m\u001b[0m \u001b[1m0s\u001b[0m 783ms/step - accuracy: 0.8908 - loss: 0.2880\n",
      "Epoch 5: val_loss did not improve from 0.27326\n",
      "\u001b[1m250/250\u001b[0m \u001b[32m━━━━━━━━━━━━━━━━━━━━\u001b[0m\u001b[37m\u001b[0m \u001b[1m239s\u001b[0m 958ms/step - accuracy: 0.8908 - loss: 0.2881 - val_accuracy: 0.8880 - val_loss: 0.2887 - learning_rate: 0.0010\n",
      "Epoch 6/50\n",
      "\u001b[1m250/250\u001b[0m \u001b[32m━━━━━━━━━━━━━━━━━━━━\u001b[0m\u001b[37m\u001b[0m \u001b[1m0s\u001b[0m 762ms/step - accuracy: 0.8827 - loss: 0.3119\n",
      "Epoch 6: val_loss improved from 0.27326 to 0.26709, saving model to model/best_model.h5\n"
     ]
    },
    {
     "name": "stderr",
     "output_type": "stream",
     "text": [
      "WARNING:absl:You are saving your model as an HDF5 file via `model.save()` or `keras.saving.save_model(model)`. This file format is considered legacy. We recommend using instead the native Keras format, e.g. `model.save('my_model.keras')` or `keras.saving.save_model(model, 'my_model.keras')`. \n"
     ]
    },
    {
     "name": "stdout",
     "output_type": "stream",
     "text": [
      "\u001b[1m250/250\u001b[0m \u001b[32m━━━━━━━━━━━━━━━━━━━━\u001b[0m\u001b[37m\u001b[0m \u001b[1m235s\u001b[0m 939ms/step - accuracy: 0.8828 - loss: 0.3118 - val_accuracy: 0.8966 - val_loss: 0.2671 - learning_rate: 0.0010\n",
      "Epoch 7/50\n",
      "\u001b[1m250/250\u001b[0m \u001b[32m━━━━━━━━━━━━━━━━━━━━\u001b[0m\u001b[37m\u001b[0m \u001b[1m0s\u001b[0m 780ms/step - accuracy: 0.8928 - loss: 0.2845\n",
      "Epoch 7: val_loss did not improve from 0.26709\n",
      "\u001b[1m250/250\u001b[0m \u001b[32m━━━━━━━━━━━━━━━━━━━━\u001b[0m\u001b[37m\u001b[0m \u001b[1m243s\u001b[0m 973ms/step - accuracy: 0.8928 - loss: 0.2845 - val_accuracy: 0.8887 - val_loss: 0.2975 - learning_rate: 0.0010\n",
      "Epoch 8/50\n",
      "\u001b[1m250/250\u001b[0m \u001b[32m━━━━━━━━━━━━━━━━━━━━\u001b[0m\u001b[37m\u001b[0m \u001b[1m0s\u001b[0m 810ms/step - accuracy: 0.9039 - loss: 0.2551\n",
      "Epoch 8: val_loss did not improve from 0.26709\n",
      "\u001b[1m250/250\u001b[0m \u001b[32m━━━━━━━━━━━━━━━━━━━━\u001b[0m\u001b[37m\u001b[0m \u001b[1m250s\u001b[0m 1000ms/step - accuracy: 0.9039 - loss: 0.2551 - val_accuracy: 0.8944 - val_loss: 0.2785 - learning_rate: 0.0010\n",
      "Epoch 9/50\n",
      "\u001b[1m250/250\u001b[0m \u001b[32m━━━━━━━━━━━━━━━━━━━━\u001b[0m\u001b[37m\u001b[0m \u001b[1m0s\u001b[0m 808ms/step - accuracy: 0.9035 - loss: 0.2584\n",
      "Epoch 9: ReduceLROnPlateau reducing learning rate to 0.0005000000237487257.\n",
      "\n",
      "Epoch 9: val_loss did not improve from 0.26709\n",
      "\u001b[1m250/250\u001b[0m \u001b[32m━━━━━━━━━━━━━━━━━━━━\u001b[0m\u001b[37m\u001b[0m \u001b[1m250s\u001b[0m 1s/step - accuracy: 0.9034 - loss: 0.2584 - val_accuracy: 0.8955 - val_loss: 0.2821 - learning_rate: 0.0010\n",
      "Epoch 10/50\n",
      "\u001b[1m250/250\u001b[0m \u001b[32m━━━━━━━━━━━━━━━━━━━━\u001b[0m\u001b[37m\u001b[0m \u001b[1m0s\u001b[0m 822ms/step - accuracy: 0.9080 - loss: 0.2440\n",
      "Epoch 10: val_loss did not improve from 0.26709\n",
      "\u001b[1m250/250\u001b[0m \u001b[32m━━━━━━━━━━━━━━━━━━━━\u001b[0m\u001b[37m\u001b[0m \u001b[1m254s\u001b[0m 1s/step - accuracy: 0.9080 - loss: 0.2440 - val_accuracy: 0.8966 - val_loss: 0.2690 - learning_rate: 5.0000e-04\n",
      "Epoch 11/50\n",
      "\u001b[1m250/250\u001b[0m \u001b[32m━━━━━━━━━━━━━━━━━━━━\u001b[0m\u001b[37m\u001b[0m \u001b[1m0s\u001b[0m 817ms/step - accuracy: 0.9202 - loss: 0.2048\n",
      "Epoch 11: val_loss improved from 0.26709 to 0.24380, saving model to model/best_model.h5\n"
     ]
    },
    {
     "name": "stderr",
     "output_type": "stream",
     "text": [
      "WARNING:absl:You are saving your model as an HDF5 file via `model.save()` or `keras.saving.save_model(model)`. This file format is considered legacy. We recommend using instead the native Keras format, e.g. `model.save('my_model.keras')` or `keras.saving.save_model(model, 'my_model.keras')`. \n"
     ]
    },
    {
     "name": "stdout",
     "output_type": "stream",
     "text": [
      "\u001b[1m250/250\u001b[0m \u001b[32m━━━━━━━━━━━━━━━━━━━━\u001b[0m\u001b[37m\u001b[0m \u001b[1m253s\u001b[0m 1s/step - accuracy: 0.9202 - loss: 0.2048 - val_accuracy: 0.9064 - val_loss: 0.2438 - learning_rate: 5.0000e-04\n",
      "Epoch 12/50\n",
      "\u001b[1m250/250\u001b[0m \u001b[32m━━━━━━━━━━━━━━━━━━━━\u001b[0m\u001b[37m\u001b[0m \u001b[1m0s\u001b[0m 795ms/step - accuracy: 0.9242 - loss: 0.1967\n",
      "Epoch 12: val_loss did not improve from 0.24380\n",
      "\u001b[1m250/250\u001b[0m \u001b[32m━━━━━━━━━━━━━━━━━━━━\u001b[0m\u001b[37m\u001b[0m \u001b[1m244s\u001b[0m 977ms/step - accuracy: 0.9241 - loss: 0.1968 - val_accuracy: 0.9079 - val_loss: 0.2440 - learning_rate: 5.0000e-04\n",
      "Epoch 13/50\n",
      "\u001b[1m250/250\u001b[0m \u001b[32m━━━━━━━━━━━━━━━━━━━━\u001b[0m\u001b[37m\u001b[0m \u001b[1m0s\u001b[0m 792ms/step - accuracy: 0.9138 - loss: 0.2156\n",
      "Epoch 13: val_loss did not improve from 0.24380\n",
      "\u001b[1m250/250\u001b[0m \u001b[32m━━━━━━━━━━━━━━━━━━━━\u001b[0m\u001b[37m\u001b[0m \u001b[1m247s\u001b[0m 989ms/step - accuracy: 0.9138 - loss: 0.2156 - val_accuracy: 0.8981 - val_loss: 0.2689 - learning_rate: 5.0000e-04\n",
      "Epoch 14/50\n",
      "\u001b[1m250/250\u001b[0m \u001b[32m━━━━━━━━━━━━━━━━━━━━\u001b[0m\u001b[37m\u001b[0m \u001b[1m0s\u001b[0m 804ms/step - accuracy: 0.9134 - loss: 0.2085\n",
      "Epoch 14: ReduceLROnPlateau reducing learning rate to 0.0002500000118743628.\n",
      "\n",
      "Epoch 14: val_loss did not improve from 0.24380\n",
      "\u001b[1m250/250\u001b[0m \u001b[32m━━━━━━━━━━━━━━━━━━━━\u001b[0m\u001b[37m\u001b[0m \u001b[1m248s\u001b[0m 990ms/step - accuracy: 0.9134 - loss: 0.2085 - val_accuracy: 0.9034 - val_loss: 0.2545 - learning_rate: 5.0000e-04\n",
      "Epoch 15/50\n",
      "\u001b[1m250/250\u001b[0m \u001b[32m━━━━━━━━━━━━━━━━━━━━\u001b[0m\u001b[37m\u001b[0m \u001b[1m0s\u001b[0m 857ms/step - accuracy: 0.9274 - loss: 0.1920\n",
      "Epoch 15: val_loss did not improve from 0.24380\n",
      "\u001b[1m250/250\u001b[0m \u001b[32m━━━━━━━━━━━━━━━━━━━━\u001b[0m\u001b[37m\u001b[0m \u001b[1m263s\u001b[0m 1s/step - accuracy: 0.9274 - loss: 0.1920 - val_accuracy: 0.9060 - val_loss: 0.2469 - learning_rate: 2.5000e-04\n",
      "Epoch 16/50\n",
      "\u001b[1m250/250\u001b[0m \u001b[32m━━━━━━━━━━━━━━━━━━━━\u001b[0m\u001b[37m\u001b[0m \u001b[1m0s\u001b[0m 820ms/step - accuracy: 0.9281 - loss: 0.1779\n",
      "Epoch 16: val_loss did not improve from 0.24380\n",
      "\u001b[1m250/250\u001b[0m \u001b[32m━━━━━━━━━━━━━━━━━━━━\u001b[0m\u001b[37m\u001b[0m \u001b[1m253s\u001b[0m 1s/step - accuracy: 0.9281 - loss: 0.1779 - val_accuracy: 0.9109 - val_loss: 0.2441 - learning_rate: 2.5000e-04\n",
      "Epoch 17/50\n",
      "\u001b[1m250/250\u001b[0m \u001b[32m━━━━━━━━━━━━━━━━━━━━\u001b[0m\u001b[37m\u001b[0m \u001b[1m0s\u001b[0m 820ms/step - accuracy: 0.9243 - loss: 0.1948\n",
      "Epoch 17: val_loss improved from 0.24380 to 0.24150, saving model to model/best_model.h5\n"
     ]
    },
    {
     "name": "stderr",
     "output_type": "stream",
     "text": [
      "WARNING:absl:You are saving your model as an HDF5 file via `model.save()` or `keras.saving.save_model(model)`. This file format is considered legacy. We recommend using instead the native Keras format, e.g. `model.save('my_model.keras')` or `keras.saving.save_model(model, 'my_model.keras')`. \n"
     ]
    },
    {
     "name": "stdout",
     "output_type": "stream",
     "text": [
      "\u001b[1m250/250\u001b[0m \u001b[32m━━━━━━━━━━━━━━━━━━━━\u001b[0m\u001b[37m\u001b[0m \u001b[1m252s\u001b[0m 1s/step - accuracy: 0.9243 - loss: 0.1948 - val_accuracy: 0.9071 - val_loss: 0.2415 - learning_rate: 2.5000e-04\n",
      "Epoch 18/50\n",
      "\u001b[1m250/250\u001b[0m \u001b[32m━━━━━━━━━━━━━━━━━━━━\u001b[0m\u001b[37m\u001b[0m \u001b[1m0s\u001b[0m 810ms/step - accuracy: 0.9360 - loss: 0.1629\n",
      "Epoch 18: val_loss did not improve from 0.24150\n",
      "\u001b[1m250/250\u001b[0m \u001b[32m━━━━━━━━━━━━━━━━━━━━\u001b[0m\u001b[37m\u001b[0m \u001b[1m250s\u001b[0m 1s/step - accuracy: 0.9360 - loss: 0.1630 - val_accuracy: 0.9098 - val_loss: 0.2467 - learning_rate: 2.5000e-04\n",
      "Epoch 19/50\n",
      "\u001b[1m250/250\u001b[0m \u001b[32m━━━━━━━━━━━━━━━━━━━━\u001b[0m\u001b[37m\u001b[0m \u001b[1m0s\u001b[0m 810ms/step - accuracy: 0.9320 - loss: 0.1651\n",
      "Epoch 19: val_loss did not improve from 0.24150\n",
      "\u001b[1m250/250\u001b[0m \u001b[32m━━━━━━━━━━━━━━━━━━━━\u001b[0m\u001b[37m\u001b[0m \u001b[1m249s\u001b[0m 998ms/step - accuracy: 0.9320 - loss: 0.1652 - val_accuracy: 0.9117 - val_loss: 0.2452 - learning_rate: 2.5000e-04\n",
      "Epoch 20/50\n",
      "\u001b[1m250/250\u001b[0m \u001b[32m━━━━━━━━━━━━━━━━━━━━\u001b[0m\u001b[37m\u001b[0m \u001b[1m0s\u001b[0m 767ms/step - accuracy: 0.9313 - loss: 0.1671\n",
      "Epoch 20: val_loss improved from 0.24150 to 0.23956, saving model to model/best_model.h5\n"
     ]
    },
    {
     "name": "stderr",
     "output_type": "stream",
     "text": [
      "WARNING:absl:You are saving your model as an HDF5 file via `model.save()` or `keras.saving.save_model(model)`. This file format is considered legacy. We recommend using instead the native Keras format, e.g. `model.save('my_model.keras')` or `keras.saving.save_model(model, 'my_model.keras')`. \n"
     ]
    },
    {
     "name": "stdout",
     "output_type": "stream",
     "text": [
      "\u001b[1m250/250\u001b[0m \u001b[32m━━━━━━━━━━━━━━━━━━━━\u001b[0m\u001b[37m\u001b[0m \u001b[1m238s\u001b[0m 953ms/step - accuracy: 0.9313 - loss: 0.1672 - val_accuracy: 0.9079 - val_loss: 0.2396 - learning_rate: 2.5000e-04\n",
      "Epoch 21/50\n",
      "\u001b[1m250/250\u001b[0m \u001b[32m━━━━━━━━━━━━━━━━━━━━\u001b[0m\u001b[37m\u001b[0m \u001b[1m0s\u001b[0m 805ms/step - accuracy: 0.9341 - loss: 0.1641\n",
      "Epoch 21: val_loss did not improve from 0.23956\n",
      "\u001b[1m250/250\u001b[0m \u001b[32m━━━━━━━━━━━━━━━━━━━━\u001b[0m\u001b[37m\u001b[0m \u001b[1m246s\u001b[0m 984ms/step - accuracy: 0.9341 - loss: 0.1641 - val_accuracy: 0.9128 - val_loss: 0.2442 - learning_rate: 2.5000e-04\n",
      "Epoch 22/50\n",
      "\u001b[1m250/250\u001b[0m \u001b[32m━━━━━━━━━━━━━━━━━━━━\u001b[0m\u001b[37m\u001b[0m \u001b[1m0s\u001b[0m 824ms/step - accuracy: 0.9305 - loss: 0.1736\n",
      "Epoch 22: val_loss improved from 0.23956 to 0.23056, saving model to model/best_model.h5\n"
     ]
    },
    {
     "name": "stderr",
     "output_type": "stream",
     "text": [
      "WARNING:absl:You are saving your model as an HDF5 file via `model.save()` or `keras.saving.save_model(model)`. This file format is considered legacy. We recommend using instead the native Keras format, e.g. `model.save('my_model.keras')` or `keras.saving.save_model(model, 'my_model.keras')`. \n"
     ]
    },
    {
     "name": "stdout",
     "output_type": "stream",
     "text": [
      "\u001b[1m250/250\u001b[0m \u001b[32m━━━━━━━━━━━━━━━━━━━━\u001b[0m\u001b[37m\u001b[0m \u001b[1m253s\u001b[0m 1s/step - accuracy: 0.9305 - loss: 0.1736 - val_accuracy: 0.9139 - val_loss: 0.2306 - learning_rate: 2.5000e-04\n",
      "Epoch 23/50\n",
      "\u001b[1m250/250\u001b[0m \u001b[32m━━━━━━━━━━━━━━━━━━━━\u001b[0m\u001b[37m\u001b[0m \u001b[1m0s\u001b[0m 840ms/step - accuracy: 0.9368 - loss: 0.1612\n",
      "Epoch 23: val_loss did not improve from 0.23056\n",
      "\u001b[1m250/250\u001b[0m \u001b[32m━━━━━━━━━━━━━━━━━━━━\u001b[0m\u001b[37m\u001b[0m \u001b[1m258s\u001b[0m 1s/step - accuracy: 0.9368 - loss: 0.1612 - val_accuracy: 0.9113 - val_loss: 0.2407 - learning_rate: 2.5000e-04\n",
      "Epoch 24/50\n",
      "\u001b[1m250/250\u001b[0m \u001b[32m━━━━━━━━━━━━━━━━━━━━\u001b[0m\u001b[37m\u001b[0m \u001b[1m0s\u001b[0m 825ms/step - accuracy: 0.9330 - loss: 0.1709\n",
      "Epoch 24: val_loss did not improve from 0.23056\n",
      "\u001b[1m250/250\u001b[0m \u001b[32m━━━━━━━━━━━━━━━━━━━━\u001b[0m\u001b[37m\u001b[0m \u001b[1m251s\u001b[0m 1s/step - accuracy: 0.9330 - loss: 0.1708 - val_accuracy: 0.9143 - val_loss: 0.2317 - learning_rate: 2.5000e-04\n",
      "Epoch 25/50\n",
      "\u001b[1m250/250\u001b[0m \u001b[32m━━━━━━━━━━━━━━━━━━━━\u001b[0m\u001b[37m\u001b[0m \u001b[1m0s\u001b[0m 752ms/step - accuracy: 0.9316 - loss: 0.1699\n",
      "Epoch 25: ReduceLROnPlateau reducing learning rate to 0.0001250000059371814.\n",
      "\n",
      "Epoch 25: val_loss did not improve from 0.23056\n",
      "\u001b[1m250/250\u001b[0m \u001b[32m━━━━━━━━━━━━━━━━━━━━\u001b[0m\u001b[37m\u001b[0m \u001b[1m232s\u001b[0m 926ms/step - accuracy: 0.9316 - loss: 0.1698 - val_accuracy: 0.9120 - val_loss: 0.2350 - learning_rate: 2.5000e-04\n",
      "Epoch 26/50\n",
      "\u001b[1m250/250\u001b[0m \u001b[32m━━━━━━━━━━━━━━━━━━━━\u001b[0m\u001b[37m\u001b[0m \u001b[1m0s\u001b[0m 778ms/step - accuracy: 0.9410 - loss: 0.1533\n",
      "Epoch 26: val_loss did not improve from 0.23056\n",
      "\u001b[1m250/250\u001b[0m \u001b[32m━━━━━━━━━━━━━━━━━━━━\u001b[0m\u001b[37m\u001b[0m \u001b[1m238s\u001b[0m 953ms/step - accuracy: 0.9410 - loss: 0.1533 - val_accuracy: 0.9147 - val_loss: 0.2359 - learning_rate: 1.2500e-04\n",
      "Epoch 27/50\n",
      "\u001b[1m250/250\u001b[0m \u001b[32m━━━━━━━━━━━━━━━━━━━━\u001b[0m\u001b[37m\u001b[0m \u001b[1m0s\u001b[0m 752ms/step - accuracy: 0.9436 - loss: 0.1448\n",
      "Epoch 27: val_loss did not improve from 0.23056\n",
      "\u001b[1m250/250\u001b[0m \u001b[32m━━━━━━━━━━━━━━━━━━━━\u001b[0m\u001b[37m\u001b[0m \u001b[1m231s\u001b[0m 926ms/step - accuracy: 0.9436 - loss: 0.1448 - val_accuracy: 0.9090 - val_loss: 0.2354 - learning_rate: 1.2500e-04\n",
      "Epoch 28/50\n",
      "\u001b[1m250/250\u001b[0m \u001b[32m━━━━━━━━━━━━━━━━━━━━\u001b[0m\u001b[37m\u001b[0m \u001b[1m0s\u001b[0m 788ms/step - accuracy: 0.9386 - loss: 0.1531\n",
      "Epoch 28: ReduceLROnPlateau reducing learning rate to 6.25000029685907e-05.\n",
      "\n",
      "Epoch 28: val_loss did not improve from 0.23056\n",
      "\u001b[1m250/250\u001b[0m \u001b[32m━━━━━━━━━━━━━━━━━━━━\u001b[0m\u001b[37m\u001b[0m \u001b[1m242s\u001b[0m 967ms/step - accuracy: 0.9386 - loss: 0.1531 - val_accuracy: 0.9098 - val_loss: 0.2411 - learning_rate: 1.2500e-04\n",
      "Epoch 29/50\n",
      "\u001b[1m250/250\u001b[0m \u001b[32m━━━━━━━━━━━━━━━━━━━━\u001b[0m\u001b[37m\u001b[0m \u001b[1m0s\u001b[0m 787ms/step - accuracy: 0.9399 - loss: 0.1503\n",
      "Epoch 29: val_loss did not improve from 0.23056\n",
      "\u001b[1m250/250\u001b[0m \u001b[32m━━━━━━━━━━━━━━━━━━━━\u001b[0m\u001b[37m\u001b[0m \u001b[1m241s\u001b[0m 965ms/step - accuracy: 0.9399 - loss: 0.1503 - val_accuracy: 0.9124 - val_loss: 0.2370 - learning_rate: 6.2500e-05\n",
      "Epoch 29: early stopping\n",
      "Restoring model weights from the end of the best epoch: 22.\n"
     ]
    }
   ],
   "source": [
    "history = model.fit(\n",
    "    train_generator,\n",
    "    validation_data=val_generator,\n",
    "    epochs=INITIAL_EPOCHS,\n",
    "    callbacks=[early_stopping, reduce_lr, checkpoint]\n",
    ")"
   ]
  },
  {
   "cell_type": "markdown",
   "id": "6f8704d1",
   "metadata": {},
   "source": [
    "Fine-tuning"
   ]
  },
  {
   "cell_type": "code",
   "execution_count": 17,
   "id": "02ad2d0d",
   "metadata": {},
   "outputs": [],
   "source": [
    "# Unfreeze the top layers of the base model for fine-tuning\n",
    "for layer in base_model.layers[-50:]:  # unfreeze last 50 layers (can tune this)\n",
    "    layer.trainable = True\n",
    "\n",
    "# Compile again with lower LR\n",
    "model.compile(optimizer=tf.keras.optimizers.Adam(learning_rate=1e-4),\n",
    "              loss='categorical_crossentropy',\n",
    "              metrics=['accuracy'])"
   ]
  },
  {
   "cell_type": "code",
   "execution_count": null,
   "id": "feabf868",
   "metadata": {},
   "outputs": [
    {
     "name": "stdout",
     "output_type": "stream",
     "text": [
      "Epoch 30/120\n",
      "\u001b[1m250/250\u001b[0m \u001b[32m━━━━━━━━━━━━━━━━━━━━\u001b[0m\u001b[37m\u001b[0m \u001b[1m0s\u001b[0m 953ms/step - accuracy: 0.8640 - loss: 0.3904\n",
      "Epoch 30: val_loss did not improve from 0.23056\n",
      "\u001b[1m250/250\u001b[0m \u001b[32m━━━━━━━━━━━━━━━━━━━━\u001b[0m\u001b[37m\u001b[0m \u001b[1m297s\u001b[0m 1s/step - accuracy: 0.8641 - loss: 0.3902 - val_accuracy: 0.7684 - val_loss: 1.0247\n",
      "Epoch 31/120\n",
      "\u001b[1m250/250\u001b[0m \u001b[32m━━━━━━━━━━━━━━━━━━━━\u001b[0m\u001b[37m\u001b[0m \u001b[1m0s\u001b[0m 983ms/step - accuracy: 0.9083 - loss: 0.2564\n",
      "Epoch 31: val_loss did not improve from 0.23056\n",
      "\u001b[1m250/250\u001b[0m \u001b[32m━━━━━━━━━━━━━━━━━━━━\u001b[0m\u001b[37m\u001b[0m \u001b[1m293s\u001b[0m 1s/step - accuracy: 0.9084 - loss: 0.2564 - val_accuracy: 0.8346 - val_loss: 0.5687\n",
      "Epoch 32/120\n",
      "\u001b[1m250/250\u001b[0m \u001b[32m━━━━━━━━━━━━━━━━━━━━\u001b[0m\u001b[37m\u001b[0m \u001b[1m0s\u001b[0m 1s/step - accuracy: 0.9207 - loss: 0.2229\n",
      "Epoch 32: val_loss did not improve from 0.23056\n",
      "\u001b[1m250/250\u001b[0m \u001b[32m━━━━━━━━━━━━━━━━━━━━\u001b[0m\u001b[37m\u001b[0m \u001b[1m310s\u001b[0m 1s/step - accuracy: 0.9207 - loss: 0.2228 - val_accuracy: 0.8759 - val_loss: 0.4229\n",
      "Epoch 33/120\n",
      "\u001b[1m250/250\u001b[0m \u001b[32m━━━━━━━━━━━━━━━━━━━━\u001b[0m\u001b[37m\u001b[0m \u001b[1m0s\u001b[0m 1s/step - accuracy: 0.9381 - loss: 0.1683\n",
      "Epoch 33: val_loss did not improve from 0.23056\n",
      "\u001b[1m250/250\u001b[0m \u001b[32m━━━━━━━━━━━━━━━━━━━━\u001b[0m\u001b[37m\u001b[0m \u001b[1m300s\u001b[0m 1s/step - accuracy: 0.9381 - loss: 0.1684 - val_accuracy: 0.8925 - val_loss: 0.3155\n",
      "Epoch 34/120\n",
      "\u001b[1m250/250\u001b[0m \u001b[32m━━━━━━━━━━━━━━━━━━━━\u001b[0m\u001b[37m\u001b[0m \u001b[1m0s\u001b[0m 1s/step - accuracy: 0.9440 - loss: 0.1580\n",
      "Epoch 34: val_loss did not improve from 0.23056\n",
      "\u001b[1m250/250\u001b[0m \u001b[32m━━━━━━━━━━━━━━━━━━━━\u001b[0m\u001b[37m\u001b[0m \u001b[1m319s\u001b[0m 1s/step - accuracy: 0.9440 - loss: 0.1580 - val_accuracy: 0.8752 - val_loss: 0.4064\n",
      "Epoch 35/120\n",
      "\u001b[1m250/250\u001b[0m \u001b[32m━━━━━━━━━━━━━━━━━━━━\u001b[0m\u001b[37m\u001b[0m \u001b[1m0s\u001b[0m 1s/step - accuracy: 0.9428 - loss: 0.1594\n",
      "Epoch 35: val_loss did not improve from 0.23056\n",
      "\u001b[1m250/250\u001b[0m \u001b[32m━━━━━━━━━━━━━━━━━━━━\u001b[0m\u001b[37m\u001b[0m \u001b[1m304s\u001b[0m 1s/step - accuracy: 0.9428 - loss: 0.1594 - val_accuracy: 0.8891 - val_loss: 0.4131\n",
      "Epoch 36/120\n",
      "\u001b[1m250/250\u001b[0m \u001b[32m━━━━━━━━━━━━━━━━━━━━\u001b[0m\u001b[37m\u001b[0m \u001b[1m0s\u001b[0m 1s/step - accuracy: 0.9501 - loss: 0.1465\n",
      "Epoch 36: val_loss did not improve from 0.23056\n",
      "\u001b[1m250/250\u001b[0m \u001b[32m━━━━━━━━━━━━━━━━━━━━\u001b[0m\u001b[37m\u001b[0m \u001b[1m317s\u001b[0m 1s/step - accuracy: 0.9501 - loss: 0.1465 - val_accuracy: 0.8312 - val_loss: 0.6039\n",
      "Epoch 37/120\n",
      "\u001b[1m250/250\u001b[0m \u001b[32m━━━━━━━━━━━━━━━━━━━━\u001b[0m\u001b[37m\u001b[0m \u001b[1m0s\u001b[0m 1s/step - accuracy: 0.9483 - loss: 0.1522\n",
      "Epoch 37: val_loss did not improve from 0.23056\n",
      "\u001b[1m250/250\u001b[0m \u001b[32m━━━━━━━━━━━━━━━━━━━━\u001b[0m\u001b[37m\u001b[0m \u001b[1m301s\u001b[0m 1s/step - accuracy: 0.9483 - loss: 0.1522 - val_accuracy: 0.9252 - val_loss: 0.2527\n",
      "Epoch 38/120\n",
      "\u001b[1m250/250\u001b[0m \u001b[32m━━━━━━━━━━━━━━━━━━━━\u001b[0m\u001b[37m\u001b[0m \u001b[1m0s\u001b[0m 1s/step - accuracy: 0.9501 - loss: 0.1257\n",
      "Epoch 38: val_loss did not improve from 0.23056\n",
      "\u001b[1m250/250\u001b[0m \u001b[32m━━━━━━━━━━━━━━━━━━━━\u001b[0m\u001b[37m\u001b[0m \u001b[1m298s\u001b[0m 1s/step - accuracy: 0.9501 - loss: 0.1257 - val_accuracy: 0.9143 - val_loss: 0.3074\n",
      "Epoch 39/120\n",
      "\u001b[1m250/250\u001b[0m \u001b[32m━━━━━━━━━━━━━━━━━━━━\u001b[0m\u001b[37m\u001b[0m \u001b[1m0s\u001b[0m 1s/step - accuracy: 0.9521 - loss: 0.1300\n",
      "Epoch 39: val_loss did not improve from 0.23056\n",
      "\u001b[1m250/250\u001b[0m \u001b[32m━━━━━━━━━━━━━━━━━━━━\u001b[0m\u001b[37m\u001b[0m \u001b[1m310s\u001b[0m 1s/step - accuracy: 0.9521 - loss: 0.1300 - val_accuracy: 0.9030 - val_loss: 0.3163\n",
      "Epoch 40/120\n",
      "\u001b[1m250/250\u001b[0m \u001b[32m━━━━━━━━━━━━━━━━━━━━\u001b[0m\u001b[37m\u001b[0m \u001b[1m0s\u001b[0m 984ms/step - accuracy: 0.9580 - loss: 0.1266\n",
      "Epoch 40: val_loss did not improve from 0.23056\n",
      "\u001b[1m250/250\u001b[0m \u001b[32m━━━━━━━━━━━━━━━━━━━━\u001b[0m\u001b[37m\u001b[0m \u001b[1m292s\u001b[0m 1s/step - accuracy: 0.9580 - loss: 0.1266 - val_accuracy: 0.9109 - val_loss: 0.3053\n",
      "Epoch 41/120\n",
      "\u001b[1m250/250\u001b[0m \u001b[32m━━━━━━━━━━━━━━━━━━━━\u001b[0m\u001b[37m\u001b[0m \u001b[1m0s\u001b[0m 951ms/step - accuracy: 0.9580 - loss: 0.1108\n",
      "Epoch 41: val_loss did not improve from 0.23056\n",
      "\u001b[1m250/250\u001b[0m \u001b[32m━━━━━━━━━━━━━━━━━━━━\u001b[0m\u001b[37m\u001b[0m \u001b[1m283s\u001b[0m 1s/step - accuracy: 0.9580 - loss: 0.1108 - val_accuracy: 0.8962 - val_loss: 0.3431\n",
      "Epoch 42/120\n",
      "\u001b[1m250/250\u001b[0m \u001b[32m━━━━━━━━━━━━━━━━━━━━\u001b[0m\u001b[37m\u001b[0m \u001b[1m0s\u001b[0m 960ms/step - accuracy: 0.9650 - loss: 0.1001\n",
      "Epoch 42: val_loss did not improve from 0.23056\n",
      "\u001b[1m250/250\u001b[0m \u001b[32m━━━━━━━━━━━━━━━━━━━━\u001b[0m\u001b[37m\u001b[0m \u001b[1m286s\u001b[0m 1s/step - accuracy: 0.9649 - loss: 0.1001 - val_accuracy: 0.9199 - val_loss: 0.2773\n",
      "Epoch 43/120\n",
      "\u001b[1m250/250\u001b[0m \u001b[32m━━━━━━━━━━━━━━━━━━━━\u001b[0m\u001b[37m\u001b[0m \u001b[1m0s\u001b[0m 949ms/step - accuracy: 0.9628 - loss: 0.1067\n",
      "Epoch 43: val_loss did not improve from 0.23056\n",
      "\u001b[1m250/250\u001b[0m \u001b[32m━━━━━━━━━━━━━━━━━━━━\u001b[0m\u001b[37m\u001b[0m \u001b[1m283s\u001b[0m 1s/step - accuracy: 0.9628 - loss: 0.1068 - val_accuracy: 0.9113 - val_loss: 0.3300\n",
      "Epoch 44/120\n",
      "\u001b[1m250/250\u001b[0m \u001b[32m━━━━━━━━━━━━━━━━━━━━\u001b[0m\u001b[37m\u001b[0m \u001b[1m0s\u001b[0m 929ms/step - accuracy: 0.9597 - loss: 0.1141\n",
      "Epoch 44: val_loss did not improve from 0.23056\n",
      "\u001b[1m250/250\u001b[0m \u001b[32m━━━━━━━━━━━━━━━━━━━━\u001b[0m\u001b[37m\u001b[0m \u001b[1m278s\u001b[0m 1s/step - accuracy: 0.9597 - loss: 0.1141 - val_accuracy: 0.9086 - val_loss: 0.3852\n",
      "Epoch 44: early stopping\n",
      "Restoring model weights from the end of the best epoch: 37.\n"
     ]
    }
   ],
   "source": [
    "fine_tune_history = model.fit(\n",
    "    train_generator,\n",
    "    validation_data=val_generator,\n",
    "    epochs=TOTAL_EPOCHS,\n",
    "    initial_epoch=history.epoch[-1] + 1,\n",
    "    callbacks=[early_stopping, checkpoint]\n",
    ")"
   ]
  },
  {
   "cell_type": "markdown",
   "id": "bda2f0ea",
   "metadata": {},
   "source": [
    "Plot Training Results"
   ]
  },
  {
   "cell_type": "code",
   "execution_count": 19,
   "id": "ef0f6bf7",
   "metadata": {},
   "outputs": [
    {
     "data": {
      "image/png": "[encoded data removed]",
      "text/plain": [
       "<Figure size 1200x500 with 2 Axes>"
      ]
     },
     "metadata": {},
     "output_type": "display_data"
    }
   ],
   "source": [
    "plt.figure(figsize=(12, 5))\n",
    "\n",
    "plt.subplot(1, 2, 1)\n",
    "plt.plot(history.history['accuracy'] + fine_tune_history.history['accuracy'], label='Train Accuracy', color='green')\n",
    "plt.plot(history.history['val_accuracy'] + fine_tune_history.history['val_accuracy'], label='Val Accuracy', color='orange')\n",
    "plt.title('Model Accuracy')\n",
    "plt.xlabel('Epoch')\n",
    "plt.ylabel('Accuracy')\n",
    "plt.legend()\n",
    "plt.grid(True)\n",
    "\n",
    "plt.subplot(1, 2, 2)\n",
    "plt.plot(history.history['loss'] + fine_tune_history.history['loss'], label='Train Loss', color='red')\n",
    "plt.plot(history.history['val_loss'] + fine_tune_history.history['val_loss'], label='Val Loss', color='blue')\n",
    "plt.title('Model Loss')\n",
    "plt.xlabel('Epoch')\n",
    "plt.ylabel('Loss')\n",
    "plt.legend()\n",
    "plt.grid(True)\n",
    "\n",
    "plt.tight_layout()\n",
    "plt.show()"
   ]
  },
  {
   "cell_type": "markdown",
   "id": "4c7f8e17",
   "metadata": {},
   "source": [
    "Evaluate on test set"
   ]
  },
  {
   "cell_type": "code",
   "execution_count": null,
   "id": "044dd932",
   "metadata": {},
   "outputs": [
    {
     "name": "stdout",
     "output_type": "stream",
     "text": [
      "\n",
      "Evaluating on test data...\n",
      "\u001b[1m84/84\u001b[0m \u001b[32m━━━━━━━━━━━━━━━━━━━━\u001b[0m\u001b[37m\u001b[0m \u001b[1m53s\u001b[0m 628ms/step - accuracy: 0.9462 - loss: 0.1678\n",
      "Test accuracy: 92.37, Test Loss: 0.26%\n"
     ]
    }
   ],
   "source": [
    "print(\"\\nEvaluating on test data...\")\n",
    "test_loss, test_acc = model.evaluate(test_generator)\n",
    "print(f\"Test accuracy: {test_acc*100:.2f}, Test Loss: {test_loss:.2f}\")"
   ]
  },
  {
   "cell_type": "code",
   "execution_count": null,
   "id": "37bccc73",
   "metadata": {},
   "outputs": [],
   "source": []
  }
 ],
 "metadata": {
  "kernelspec": {
   "display_name": "Python 3",
   "language": "python",
   "name": "python3"
  },
  "language_info": {
   "codemirror_mode": {
    "name": "ipython",
    "version": 3
   },
   "file_extension": ".py",
   "mimetype": "text/x-python",
   "name": "python",
   "nbconvert_exporter": "python",
   "pygments_lexer": "ipython3",
   "version": "3.11.7"
  }
 },
 "nbformat": 4,
 "nbformat_minor": 5
}
