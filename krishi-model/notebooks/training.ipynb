{
 "cells": [
  {
   "cell_type": "code",
   "execution_count": 6,
   "id": "688c33d6",
   "metadata": {},
   "outputs": [],
   "source": [
    "import os\n",
    "import shutil\n",
    "import random\n",
    "import tensorflow as tf\n",
    "from tensorflow.keras.preprocessing.image import ImageDataGenerator\n",
    "from tensorflow.keras.applications import MobileNetV3Small\n",
    "from tensorflow.keras.models import Model\n",
    "from tensorflow.keras.layers import GlobalAveragePooling2D, Dense, Dropout, BatchNormalization\n",
    "from tensorflow.keras.callbacks import EarlyStopping, ReduceLROnPlateau, ModelCheckpoint\n",
    "import matplotlib.pyplot as plt\n",
    "import cv2\n",
    "import numpy as np"
   ]
  },
  {
   "cell_type": "markdown",
   "id": "12451d20",
   "metadata": {},
   "source": [
    "Config"
   ]
  },
  {
   "cell_type": "code",
   "execution_count": 7,
   "id": "f2b3d7a2",
   "metadata": {},
   "outputs": [],
   "source": [
    "IMG_SIZE = 224\n",
    "BATCH_SIZE = 32\n",
    "INITIAL_EPOCHS = 50\n",
    "FINE_TUNE_EPOCHS = 70\n",
    "TOTAL_EPOCHS = INITIAL_EPOCHS + FINE_TUNE_EPOCHS\n",
    "\n",
    "ORIG_DATA_DIR = r'E:\\Projects\\Krishi-Sahayak\\krishi-model\\Data'  # original dataset folder\n",
    "DATA_DIR = r'E:\\Projects\\Krishi-Sahayak\\krishi-model\\SplitData' # folder where split dataset will be saved"
   ]
  },
  {
   "cell_type": "markdown",
   "id": "1ed17af3",
   "metadata": {},
   "source": [
    "Split Data"
   ]
  },
  {
   "cell_type": "code",
   "execution_count": 3,
   "id": "c1083e2b",
   "metadata": {},
   "outputs": [],
   "source": [
    "# def split_data(source_dir, dest_dir, train_ratio=0.7, val_ratio=0.2, test_ratio=0.1, seed=42):\n",
    "#     random.seed(seed)\n",
    "#     assert abs(train_ratio + val_ratio + test_ratio - 1.0) < 1e-6, \"Ratios must sum to 1.\"\n",
    "\n",
    "#     classes = [d for d in os.listdir(source_dir) if os.path.isdir(os.path.join(source_dir, d))]\n",
    "#     print(f\"Classes found: {classes}\")\n",
    "\n",
    "#     for cls in classes:\n",
    "#         cls_path = os.path.join(source_dir, cls)\n",
    "#         files = [f for f in os.listdir(cls_path) if os.path.isfile(os.path.join(cls_path, f))]\n",
    "#         random.shuffle(files)\n",
    "\n",
    "#         n_total = len(files)\n",
    "#         n_train = int(train_ratio * n_total)\n",
    "#         n_val = int(val_ratio * n_total)\n",
    "#         n_test = n_total - n_train - n_val\n",
    "\n",
    "#         splits = {\n",
    "#             'train': files[:n_train],\n",
    "#             'val': files[n_train:n_train+n_val],\n",
    "#             'test': files[n_train+n_val:]\n",
    "#         }\n",
    "\n",
    "#         for split_name, split_files in splits.items():\n",
    "#             split_dir = os.path.join(dest_dir, split_name, cls)\n",
    "#             os.makedirs(split_dir, exist_ok=True)\n",
    "\n",
    "#             for file_name in split_files:\n",
    "#                 src_file = os.path.join(cls_path, file_name)\n",
    "#                 dst_file = os.path.join(split_dir, file_name)\n",
    "#                 if not os.path.exists(dst_file):\n",
    "#                     shutil.copy2(src_file, dst_file)\n",
    "#             print(f\"Copied {len(split_files)} files to {split_dir}\")"
   ]
  },
  {
   "cell_type": "code",
   "execution_count": 4,
   "id": "30f5e10d",
   "metadata": {},
   "outputs": [],
   "source": [
    "# split_data(ORIG_DATA_DIR, DATA_DIR, train_ratio=0.6, val_ratio=0.2, test_ratio=0.2)"
   ]
  },
  {
   "cell_type": "markdown",
   "id": "e00d53c0",
   "metadata": {},
   "source": [
    "Data Generators"
   ]
  },
  {
   "cell_type": "code",
   "execution_count": 8,
   "id": "e811c819",
   "metadata": {},
   "outputs": [
    {
     "name": "stdout",
     "output_type": "stream",
     "text": [
      "Found 7990 images belonging to 17 classes.\n",
      "Found 2660 images belonging to 17 classes.\n",
      "Found 2674 images belonging to 17 classes.\n"
     ]
    }
   ],
   "source": [
    "train_datagen = ImageDataGenerator(\n",
    "    rescale=1./255,\n",
    "    rotation_range=15,\n",
    "    zoom_range=0.15,\n",
    "    shear_range=0.15,\n",
    "    horizontal_flip=True,\n",
    "    brightness_range=[0.8, 1.2],\n",
    "    fill_mode='nearest'\n",
    ")\n",
    "\n",
    "val_datagen = ImageDataGenerator(rescale=1./255)\n",
    "test_datagen = ImageDataGenerator(rescale=1./255)\n",
    "\n",
    "train_generator = train_datagen.flow_from_directory(\n",
    "    os.path.join(DATA_DIR, 'train'),\n",
    "    target_size=(IMG_SIZE, IMG_SIZE),\n",
    "    batch_size=BATCH_SIZE,\n",
    "    class_mode='categorical'\n",
    ")\n",
    "\n",
    "val_generator = val_datagen.flow_from_directory(\n",
    "    os.path.join(DATA_DIR, 'val'),\n",
    "    target_size=(IMG_SIZE, IMG_SIZE),\n",
    "    batch_size=BATCH_SIZE,\n",
    "    class_mode='categorical'\n",
    ")\n",
    "\n",
    "test_generator = test_datagen.flow_from_directory(\n",
    "    os.path.join(DATA_DIR, 'test'),\n",
    "    target_size=(IMG_SIZE, IMG_SIZE),\n",
    "    batch_size=BATCH_SIZE,\n",
    "    class_mode='categorical',\n",
    "    shuffle=False\n",
    ")\n",
    "\n",
    "# Save labels for inference\n",
    "os.makedirs(\"model\", exist_ok=True)\n",
    "with open(\"model/labels.txt\", \"w\") as f:\n",
    "    for label in train_generator.class_indices:\n",
    "        f.write(f\"{label}\\n\")"
   ]
  },
  {
   "cell_type": "markdown",
   "id": "ef8a3903",
   "metadata": {},
   "source": [
    "Plant Validation"
   ]
  },
  {
   "cell_type": "code",
   "execution_count": 9,
   "id": "7ea2be3c",
   "metadata": {},
   "outputs": [],
   "source": [
    "def is_leaf_colored(img, threshold=0.25):\n",
    "    img = cv2.cvtColor(img, cv2.COLOR_BGR2RGB).astype(\"float\") / 255.0\n",
    "    R, G, B = img[:,:,0], img[:,:,1], img[:,:,2]\n",
    "\n",
    "    green_mask = (G > R) & (G > B)\n",
    "    yellow_mask = (R > 0.3) & (G > 0.3) & (B < 0.4) & (abs(R-G) < 0.2)\n",
    "    brown_mask = (R > 0.4) & (G > 0.2) & (B < 0.3)\n",
    "\n",
    "    valid_mask = green_mask | yellow_mask | brown_mask\n",
    "    valid_ratio = np.sum(valid_mask) / (img.shape[0] * img.shape[1])\n",
    "    return valid_ratio > threshold\n",
    "\n",
    "def has_leaf_texture(img, min_ratio=0.005):\n",
    "    gray = cv2.cvtColor(img, cv2.COLOR_BGR2GRAY)\n",
    "    edges = cv2.Canny(gray, 100, 200)\n",
    "    edge_ratio = np.sum(edges > 0) / (img.shape[0] * img.shape[1])\n",
    "    return edge_ratio > min_ratio\n",
    "\n",
    "def background_check(img, var_threshold=0.001):\n",
    "    img_norm = img.astype(\"float\") / 255.0\n",
    "    var = np.var(img_norm, axis=(0,1))\n",
    "    avg_var = np.mean(var)\n",
    "    return avg_var >= var_threshold\n",
    "\n",
    "def validate_plant_image(img_path):\n",
    "    img = cv2.imread(img_path)\n",
    "    if img is None:\n",
    "        return False\n",
    "    if not is_leaf_colored(img):\n",
    "        return False\n",
    "    if not has_leaf_texture(img):\n",
    "        return False\n",
    "    if not background_check(img):\n",
    "        return False\n",
    "    return True"
   ]
  },
  {
   "cell_type": "markdown",
   "id": "fe0602fe",
   "metadata": {},
   "source": [
    "Build Model"
   ]
  },
  {
   "cell_type": "code",
   "execution_count": 10,
   "id": "5cf2e7c2",
   "metadata": {},
   "outputs": [],
   "source": [
    "# Load MobileNetV3-Small base\n",
    "base_model = MobileNetV3Small(input_shape=(IMG_SIZE, IMG_SIZE, 3),\n",
    "                              include_top=False,\n",
    "                              weights='imagenet')\n",
    "\n",
    "x = base_model.output\n",
    "x = GlobalAveragePooling2D()(x)\n",
    "x = BatchNormalization()(x)\n",
    "x = Dense(256, activation='relu')(x)\n",
    "x = Dropout(0.5)(x)\n",
    "preds = Dense(train_generator.num_classes, activation='softmax')(x)\n",
    "\n",
    "model = Model(inputs=base_model.input, outputs=preds)\n",
    "\n",
    "# Freeze base initially\n",
    "for layer in base_model.layers:\n",
    "    layer.trainable = False\n",
    "\n",
    "model.compile(optimizer=tf.keras.optimizers.Adam(learning_rate=1e-3),\n",
    "              loss='categorical_crossentropy',\n",
    "              metrics=['accuracy'])"
   ]
  },
  {
   "cell_type": "code",
   "execution_count": 11,
   "id": "92add5d2",
   "metadata": {},
   "outputs": [],
   "source": [
    "early_stopping = EarlyStopping(monitor='val_loss', patience=7, restore_best_weights=True, verbose=1)\n",
    "reduce_lr = ReduceLROnPlateau(monitor='val_loss', factor=0.5, patience=3, verbose=1)\n",
    "checkpoint = ModelCheckpoint('model/best_model.h5', monitor='val_loss', save_best_only=True, verbose=1)"
   ]
  },
  {
   "cell_type": "markdown",
   "id": "f2aace76",
   "metadata": {},
   "source": [
    "Initial training"
   ]
  },
  {
   "cell_type": "code",
   "execution_count": 12,
   "id": "dda5e7f0",
   "metadata": {},
   "outputs": [
    {
     "name": "stdout",
     "output_type": "stream",
     "text": [
      "Epoch 1/50\n",
      "\u001b[1m250/250\u001b[0m \u001b[32m━━━━━━━━━━━━━━━━━━━━\u001b[0m\u001b[37m\u001b[0m \u001b[1m0s\u001b[0m 601ms/step - accuracy: 0.4486 - loss: 1.7449\n",
      "Epoch 1: val_loss improved from None to 2.38342, saving model to model/best_model.h5\n"
     ]
    },
    {
     "name": "stderr",
     "output_type": "stream",
     "text": [
      "WARNING:absl:You are saving your model as an HDF5 file via `model.save()` or `keras.saving.save_model(model)`. This file format is considered legacy. We recommend using instead the native Keras format, e.g. `model.save('my_model.keras')` or `keras.saving.save_model(model, 'my_model.keras')`. \n"
     ]
    },
    {
     "name": "stdout",
     "output_type": "stream",
     "text": [
      "\u001b[1m250/250\u001b[0m \u001b[32m━━━━━━━━━━━━━━━━━━━━\u001b[0m\u001b[37m\u001b[0m \u001b[1m183s\u001b[0m 714ms/step - accuracy: 0.5378 - loss: 1.3979 - val_accuracy: 0.3711 - val_loss: 2.3834 - learning_rate: 0.0010\n",
      "Epoch 2/50\n",
      "\u001b[1m250/250\u001b[0m \u001b[32m━━━━━━━━━━━━━━━━━━━━\u001b[0m\u001b[37m\u001b[0m \u001b[1m0s\u001b[0m 551ms/step - accuracy: 0.6180 - loss: 1.0670\n",
      "Epoch 2: val_loss improved from 2.38342 to 1.16753, saving model to model/best_model.h5\n"
     ]
    },
    {
     "name": "stderr",
     "output_type": "stream",
     "text": [
      "WARNING:absl:You are saving your model as an HDF5 file via `model.save()` or `keras.saving.save_model(model)`. This file format is considered legacy. We recommend using instead the native Keras format, e.g. `model.save('my_model.keras')` or `keras.saving.save_model(model, 'my_model.keras')`. \n"
     ]
    },
    {
     "name": "stdout",
     "output_type": "stream",
     "text": [
      "\u001b[1m250/250\u001b[0m \u001b[32m━━━━━━━━━━━━━━━━━━━━\u001b[0m\u001b[37m\u001b[0m \u001b[1m162s\u001b[0m 649ms/step - accuracy: 0.6337 - loss: 1.0275 - val_accuracy: 0.6737 - val_loss: 1.1675 - learning_rate: 0.0010\n",
      "Epoch 3/50\n",
      "\u001b[1m250/250\u001b[0m \u001b[32m━━━━━━━━━━━━━━━━━━━━\u001b[0m\u001b[37m\u001b[0m \u001b[1m0s\u001b[0m 536ms/step - accuracy: 0.6620 - loss: 0.9458\n",
      "Epoch 3: val_loss improved from 1.16753 to 0.74665, saving model to model/best_model.h5\n"
     ]
    },
    {
     "name": "stderr",
     "output_type": "stream",
     "text": [
      "WARNING:absl:You are saving your model as an HDF5 file via `model.save()` or `keras.saving.save_model(model)`. This file format is considered legacy. We recommend using instead the native Keras format, e.g. `model.save('my_model.keras')` or `keras.saving.save_model(model, 'my_model.keras')`. \n"
     ]
    },
    {
     "name": "stdout",
     "output_type": "stream",
     "text": [
      "\u001b[1m250/250\u001b[0m \u001b[32m━━━━━━━━━━━━━━━━━━━━\u001b[0m\u001b[37m\u001b[0m \u001b[1m159s\u001b[0m 637ms/step - accuracy: 0.6650 - loss: 0.9339 - val_accuracy: 0.7226 - val_loss: 0.7466 - learning_rate: 0.0010\n",
      "Epoch 4/50\n",
      "\u001b[1m250/250\u001b[0m \u001b[32m━━━━━━━━━━━━━━━━━━━━\u001b[0m\u001b[37m\u001b[0m \u001b[1m0s\u001b[0m 518ms/step - accuracy: 0.6819 - loss: 0.8634\n",
      "Epoch 4: val_loss improved from 0.74665 to 0.69850, saving model to model/best_model.h5\n"
     ]
    },
    {
     "name": "stderr",
     "output_type": "stream",
     "text": [
      "WARNING:absl:You are saving your model as an HDF5 file via `model.save()` or `keras.saving.save_model(model)`. This file format is considered legacy. We recommend using instead the native Keras format, e.g. `model.save('my_model.keras')` or `keras.saving.save_model(model, 'my_model.keras')`. \n"
     ]
    },
    {
     "name": "stdout",
     "output_type": "stream",
     "text": [
      "\u001b[1m250/250\u001b[0m \u001b[32m━━━━━━━━━━━━━━━━━━━━\u001b[0m\u001b[37m\u001b[0m \u001b[1m153s\u001b[0m 614ms/step - accuracy: 0.6783 - loss: 0.8682 - val_accuracy: 0.7312 - val_loss: 0.6985 - learning_rate: 0.0010\n",
      "Epoch 5/50\n",
      "\u001b[1m250/250\u001b[0m \u001b[32m━━━━━━━━━━━━━━━━━━━━\u001b[0m\u001b[37m\u001b[0m \u001b[1m0s\u001b[0m 525ms/step - accuracy: 0.7009 - loss: 0.8356\n",
      "Epoch 5: val_loss improved from 0.69850 to 0.66314, saving model to model/best_model.h5\n"
     ]
    },
    {
     "name": "stderr",
     "output_type": "stream",
     "text": [
      "WARNING:absl:You are saving your model as an HDF5 file via `model.save()` or `keras.saving.save_model(model)`. This file format is considered legacy. We recommend using instead the native Keras format, e.g. `model.save('my_model.keras')` or `keras.saving.save_model(model, 'my_model.keras')`. \n"
     ]
    },
    {
     "name": "stdout",
     "output_type": "stream",
     "text": [
      "\u001b[1m250/250\u001b[0m \u001b[32m━━━━━━━━━━━━━━━━━━━━\u001b[0m\u001b[37m\u001b[0m \u001b[1m156s\u001b[0m 626ms/step - accuracy: 0.6944 - loss: 0.8410 - val_accuracy: 0.7485 - val_loss: 0.6631 - learning_rate: 0.0010\n",
      "Epoch 6/50\n",
      "\u001b[1m250/250\u001b[0m \u001b[32m━━━━━━━━━━━━━━━━━━━━\u001b[0m\u001b[37m\u001b[0m \u001b[1m0s\u001b[0m 563ms/step - accuracy: 0.6854 - loss: 0.8376\n",
      "Epoch 6: val_loss improved from 0.66314 to 0.63220, saving model to model/best_model.h5\n"
     ]
    },
    {
     "name": "stderr",
     "output_type": "stream",
     "text": [
      "WARNING:absl:You are saving your model as an HDF5 file via `model.save()` or `keras.saving.save_model(model)`. This file format is considered legacy. We recommend using instead the native Keras format, e.g. `model.save('my_model.keras')` or `keras.saving.save_model(model, 'my_model.keras')`. \n"
     ]
    },
    {
     "name": "stdout",
     "output_type": "stream",
     "text": [
      "\u001b[1m250/250\u001b[0m \u001b[32m━━━━━━━━━━━━━━━━━━━━\u001b[0m\u001b[37m\u001b[0m \u001b[1m167s\u001b[0m 668ms/step - accuracy: 0.6919 - loss: 0.8230 - val_accuracy: 0.7523 - val_loss: 0.6322 - learning_rate: 0.0010\n",
      "Epoch 7/50\n",
      "\u001b[1m250/250\u001b[0m \u001b[32m━━━━━━━━━━━━━━━━━━━━\u001b[0m\u001b[37m\u001b[0m \u001b[1m0s\u001b[0m 559ms/step - accuracy: 0.7012 - loss: 0.7932\n",
      "Epoch 7: val_loss did not improve from 0.63220\n",
      "\u001b[1m250/250\u001b[0m \u001b[32m━━━━━━━━━━━━━━━━━━━━\u001b[0m\u001b[37m\u001b[0m \u001b[1m164s\u001b[0m 654ms/step - accuracy: 0.6970 - loss: 0.7975 - val_accuracy: 0.7346 - val_loss: 0.6725 - learning_rate: 0.0010\n",
      "Epoch 8/50\n",
      "\u001b[1m250/250\u001b[0m \u001b[32m━━━━━━━━━━━━━━━━━━━━\u001b[0m\u001b[37m\u001b[0m \u001b[1m0s\u001b[0m 549ms/step - accuracy: 0.6975 - loss: 0.7912\n",
      "Epoch 8: val_loss improved from 0.63220 to 0.62823, saving model to model/best_model.h5\n"
     ]
    },
    {
     "name": "stderr",
     "output_type": "stream",
     "text": [
      "WARNING:absl:You are saving your model as an HDF5 file via `model.save()` or `keras.saving.save_model(model)`. This file format is considered legacy. We recommend using instead the native Keras format, e.g. `model.save('my_model.keras')` or `keras.saving.save_model(model, 'my_model.keras')`. \n"
     ]
    },
    {
     "name": "stdout",
     "output_type": "stream",
     "text": [
      "\u001b[1m250/250\u001b[0m \u001b[32m━━━━━━━━━━━━━━━━━━━━\u001b[0m\u001b[37m\u001b[0m \u001b[1m161s\u001b[0m 646ms/step - accuracy: 0.7020 - loss: 0.7804 - val_accuracy: 0.7575 - val_loss: 0.6282 - learning_rate: 0.0010\n",
      "Epoch 9/50\n",
      "\u001b[1m250/250\u001b[0m \u001b[32m━━━━━━━━━━━━━━━━━━━━\u001b[0m\u001b[37m\u001b[0m \u001b[1m0s\u001b[0m 572ms/step - accuracy: 0.7057 - loss: 0.7610\n",
      "Epoch 9: val_loss did not improve from 0.62823\n",
      "\u001b[1m250/250\u001b[0m \u001b[32m━━━━━━━━━━━━━━━━━━━━\u001b[0m\u001b[37m\u001b[0m \u001b[1m170s\u001b[0m 680ms/step - accuracy: 0.7083 - loss: 0.7623 - val_accuracy: 0.7425 - val_loss: 0.6451 - learning_rate: 0.0010\n",
      "Epoch 10/50\n",
      "\u001b[1m250/250\u001b[0m \u001b[32m━━━━━━━━━━━━━━━━━━━━\u001b[0m\u001b[37m\u001b[0m \u001b[1m0s\u001b[0m 519ms/step - accuracy: 0.7239 - loss: 0.7296\n",
      "Epoch 10: val_loss improved from 0.62823 to 0.59923, saving model to model/best_model.h5\n"
     ]
    },
    {
     "name": "stderr",
     "output_type": "stream",
     "text": [
      "WARNING:absl:You are saving your model as an HDF5 file via `model.save()` or `keras.saving.save_model(model)`. This file format is considered legacy. We recommend using instead the native Keras format, e.g. `model.save('my_model.keras')` or `keras.saving.save_model(model, 'my_model.keras')`. \n"
     ]
    },
    {
     "name": "stdout",
     "output_type": "stream",
     "text": [
      "\u001b[1m250/250\u001b[0m \u001b[32m━━━━━━━━━━━━━━━━━━━━\u001b[0m\u001b[37m\u001b[0m \u001b[1m153s\u001b[0m 612ms/step - accuracy: 0.7188 - loss: 0.7380 - val_accuracy: 0.7654 - val_loss: 0.5992 - learning_rate: 0.0010\n",
      "Epoch 11/50\n",
      "\u001b[1m250/250\u001b[0m \u001b[32m━━━━━━━━━━━━━━━━━━━━\u001b[0m\u001b[37m\u001b[0m \u001b[1m0s\u001b[0m 511ms/step - accuracy: 0.7125 - loss: 0.7344\n",
      "Epoch 11: val_loss did not improve from 0.59923\n",
      "\u001b[1m250/250\u001b[0m \u001b[32m━━━━━━━━━━━━━━━━━━━━\u001b[0m\u001b[37m\u001b[0m \u001b[1m152s\u001b[0m 609ms/step - accuracy: 0.7153 - loss: 0.7343 - val_accuracy: 0.7598 - val_loss: 0.6120 - learning_rate: 0.0010\n",
      "Epoch 12/50\n",
      "\u001b[1m250/250\u001b[0m \u001b[32m━━━━━━━━━━━━━━━━━━━━\u001b[0m\u001b[37m\u001b[0m \u001b[1m0s\u001b[0m 546ms/step - accuracy: 0.7174 - loss: 0.7457\n",
      "Epoch 12: val_loss improved from 0.59923 to 0.59791, saving model to model/best_model.h5\n"
     ]
    },
    {
     "name": "stderr",
     "output_type": "stream",
     "text": [
      "WARNING:absl:You are saving your model as an HDF5 file via `model.save()` or `keras.saving.save_model(model)`. This file format is considered legacy. We recommend using instead the native Keras format, e.g. `model.save('my_model.keras')` or `keras.saving.save_model(model, 'my_model.keras')`. \n"
     ]
    },
    {
     "name": "stdout",
     "output_type": "stream",
     "text": [
      "\u001b[1m250/250\u001b[0m \u001b[32m━━━━━━━━━━━━━━━━━━━━\u001b[0m\u001b[37m\u001b[0m \u001b[1m161s\u001b[0m 646ms/step - accuracy: 0.7185 - loss: 0.7256 - val_accuracy: 0.7695 - val_loss: 0.5979 - learning_rate: 0.0010\n",
      "Epoch 13/50\n",
      "\u001b[1m250/250\u001b[0m \u001b[32m━━━━━━━━━━━━━━━━━━━━\u001b[0m\u001b[37m\u001b[0m \u001b[1m0s\u001b[0m 549ms/step - accuracy: 0.7201 - loss: 0.7102\n",
      "Epoch 13: val_loss improved from 0.59791 to 0.57833, saving model to model/best_model.h5\n"
     ]
    },
    {
     "name": "stderr",
     "output_type": "stream",
     "text": [
      "WARNING:absl:You are saving your model as an HDF5 file via `model.save()` or `keras.saving.save_model(model)`. This file format is considered legacy. We recommend using instead the native Keras format, e.g. `model.save('my_model.keras')` or `keras.saving.save_model(model, 'my_model.keras')`. \n"
     ]
    },
    {
     "name": "stdout",
     "output_type": "stream",
     "text": [
      "\u001b[1m250/250\u001b[0m \u001b[32m━━━━━━━━━━━━━━━━━━━━\u001b[0m\u001b[37m\u001b[0m \u001b[1m162s\u001b[0m 649ms/step - accuracy: 0.7250 - loss: 0.7135 - val_accuracy: 0.7726 - val_loss: 0.5783 - learning_rate: 0.0010\n",
      "Epoch 14/50\n",
      "\u001b[1m250/250\u001b[0m \u001b[32m━━━━━━━━━━━━━━━━━━━━\u001b[0m\u001b[37m\u001b[0m \u001b[1m0s\u001b[0m 544ms/step - accuracy: 0.7411 - loss: 0.6932\n",
      "Epoch 14: val_loss did not improve from 0.57833\n",
      "\u001b[1m250/250\u001b[0m \u001b[32m━━━━━━━━━━━━━━━━━━━━\u001b[0m\u001b[37m\u001b[0m \u001b[1m161s\u001b[0m 643ms/step - accuracy: 0.7343 - loss: 0.7061 - val_accuracy: 0.7741 - val_loss: 0.5805 - learning_rate: 0.0010\n",
      "Epoch 15/50\n",
      "\u001b[1m250/250\u001b[0m \u001b[32m━━━━━━━━━━━━━━━━━━━━\u001b[0m\u001b[37m\u001b[0m \u001b[1m0s\u001b[0m 549ms/step - accuracy: 0.7356 - loss: 0.6916\n",
      "Epoch 15: val_loss did not improve from 0.57833\n",
      "\u001b[1m250/250\u001b[0m \u001b[32m━━━━━━━━━━━━━━━━━━━━\u001b[0m\u001b[37m\u001b[0m \u001b[1m162s\u001b[0m 648ms/step - accuracy: 0.7318 - loss: 0.6970 - val_accuracy: 0.7654 - val_loss: 0.5854 - learning_rate: 0.0010\n",
      "Epoch 16/50\n",
      "\u001b[1m250/250\u001b[0m \u001b[32m━━━━━━━━━━━━━━━━━━━━\u001b[0m\u001b[37m\u001b[0m \u001b[1m0s\u001b[0m 546ms/step - accuracy: 0.7353 - loss: 0.6915\n",
      "Epoch 16: val_loss improved from 0.57833 to 0.56780, saving model to model/best_model.h5\n"
     ]
    },
    {
     "name": "stderr",
     "output_type": "stream",
     "text": [
      "WARNING:absl:You are saving your model as an HDF5 file via `model.save()` or `keras.saving.save_model(model)`. This file format is considered legacy. We recommend using instead the native Keras format, e.g. `model.save('my_model.keras')` or `keras.saving.save_model(model, 'my_model.keras')`. \n"
     ]
    },
    {
     "name": "stdout",
     "output_type": "stream",
     "text": [
      "\u001b[1m250/250\u001b[0m \u001b[32m━━━━━━━━━━━━━━━━━━━━\u001b[0m\u001b[37m\u001b[0m \u001b[1m162s\u001b[0m 648ms/step - accuracy: 0.7392 - loss: 0.6830 - val_accuracy: 0.7726 - val_loss: 0.5678 - learning_rate: 0.0010\n",
      "Epoch 17/50\n",
      "\u001b[1m250/250\u001b[0m \u001b[32m━━━━━━━━━━━━━━━━━━━━\u001b[0m\u001b[37m\u001b[0m \u001b[1m0s\u001b[0m 546ms/step - accuracy: 0.7365 - loss: 0.6770\n",
      "Epoch 17: val_loss did not improve from 0.56780\n",
      "\u001b[1m250/250\u001b[0m \u001b[32m━━━━━━━━━━━━━━━━━━━━\u001b[0m\u001b[37m\u001b[0m \u001b[1m161s\u001b[0m 644ms/step - accuracy: 0.7334 - loss: 0.6918 - val_accuracy: 0.7662 - val_loss: 0.5865 - learning_rate: 0.0010\n",
      "Epoch 18/50\n",
      "\u001b[1m250/250\u001b[0m \u001b[32m━━━━━━━━━━━━━━━━━━━━\u001b[0m\u001b[37m\u001b[0m \u001b[1m0s\u001b[0m 548ms/step - accuracy: 0.7417 - loss: 0.6817\n",
      "Epoch 18: val_loss improved from 0.56780 to 0.55100, saving model to model/best_model.h5\n"
     ]
    },
    {
     "name": "stderr",
     "output_type": "stream",
     "text": [
      "WARNING:absl:You are saving your model as an HDF5 file via `model.save()` or `keras.saving.save_model(model)`. This file format is considered legacy. We recommend using instead the native Keras format, e.g. `model.save('my_model.keras')` or `keras.saving.save_model(model, 'my_model.keras')`. \n"
     ]
    },
    {
     "name": "stdout",
     "output_type": "stream",
     "text": [
      "\u001b[1m250/250\u001b[0m \u001b[32m━━━━━━━━━━━━━━━━━━━━\u001b[0m\u001b[37m\u001b[0m \u001b[1m162s\u001b[0m 648ms/step - accuracy: 0.7375 - loss: 0.6934 - val_accuracy: 0.7861 - val_loss: 0.5510 - learning_rate: 0.0010\n",
      "Epoch 19/50\n",
      "\u001b[1m250/250\u001b[0m \u001b[32m━━━━━━━━━━━━━━━━━━━━\u001b[0m\u001b[37m\u001b[0m \u001b[1m0s\u001b[0m 549ms/step - accuracy: 0.7450 - loss: 0.6604\n",
      "Epoch 19: val_loss did not improve from 0.55100\n",
      "\u001b[1m250/250\u001b[0m \u001b[32m━━━━━━━━━━━━━━━━━━━━\u001b[0m\u001b[37m\u001b[0m \u001b[1m161s\u001b[0m 647ms/step - accuracy: 0.7417 - loss: 0.6682 - val_accuracy: 0.7801 - val_loss: 0.5648 - learning_rate: 0.0010\n",
      "Epoch 20/50\n",
      "\u001b[1m250/250\u001b[0m \u001b[32m━━━━━━━━━━━━━━━━━━━━\u001b[0m\u001b[37m\u001b[0m \u001b[1m0s\u001b[0m 550ms/step - accuracy: 0.7560 - loss: 0.6452\n",
      "Epoch 20: val_loss improved from 0.55100 to 0.54403, saving model to model/best_model.h5\n"
     ]
    },
    {
     "name": "stderr",
     "output_type": "stream",
     "text": [
      "WARNING:absl:You are saving your model as an HDF5 file via `model.save()` or `keras.saving.save_model(model)`. This file format is considered legacy. We recommend using instead the native Keras format, e.g. `model.save('my_model.keras')` or `keras.saving.save_model(model, 'my_model.keras')`. \n"
     ]
    },
    {
     "name": "stdout",
     "output_type": "stream",
     "text": [
      "\u001b[1m250/250\u001b[0m \u001b[32m━━━━━━━━━━━━━━━━━━━━\u001b[0m\u001b[37m\u001b[0m \u001b[1m162s\u001b[0m 649ms/step - accuracy: 0.7472 - loss: 0.6672 - val_accuracy: 0.7827 - val_loss: 0.5440 - learning_rate: 0.0010\n",
      "Epoch 21/50\n",
      "\u001b[1m250/250\u001b[0m \u001b[32m━━━━━━━━━━━━━━━━━━━━\u001b[0m\u001b[37m\u001b[0m \u001b[1m0s\u001b[0m 543ms/step - accuracy: 0.7332 - loss: 0.6862\n",
      "Epoch 21: val_loss did not improve from 0.54403\n",
      "\u001b[1m250/250\u001b[0m \u001b[32m━━━━━━━━━━━━━━━━━━━━\u001b[0m\u001b[37m\u001b[0m \u001b[1m160s\u001b[0m 641ms/step - accuracy: 0.7385 - loss: 0.6772 - val_accuracy: 0.7805 - val_loss: 0.5488 - learning_rate: 0.0010\n",
      "Epoch 22/50\n",
      "\u001b[1m250/250\u001b[0m \u001b[32m━━━━━━━━━━━━━━━━━━━━\u001b[0m\u001b[37m\u001b[0m \u001b[1m0s\u001b[0m 550ms/step - accuracy: 0.7480 - loss: 0.6460\n",
      "Epoch 22: val_loss did not improve from 0.54403\n",
      "\u001b[1m250/250\u001b[0m \u001b[32m━━━━━━━━━━━━━━━━━━━━\u001b[0m\u001b[37m\u001b[0m \u001b[1m162s\u001b[0m 648ms/step - accuracy: 0.7432 - loss: 0.6574 - val_accuracy: 0.7741 - val_loss: 0.5561 - learning_rate: 0.0010\n",
      "Epoch 23/50\n",
      "\u001b[1m250/250\u001b[0m \u001b[32m━━━━━━━━━━━━━━━━━━━━\u001b[0m\u001b[37m\u001b[0m \u001b[1m0s\u001b[0m 547ms/step - accuracy: 0.7510 - loss: 0.6514\n",
      "Epoch 23: val_loss improved from 0.54403 to 0.53542, saving model to model/best_model.h5\n"
     ]
    },
    {
     "name": "stderr",
     "output_type": "stream",
     "text": [
      "WARNING:absl:You are saving your model as an HDF5 file via `model.save()` or `keras.saving.save_model(model)`. This file format is considered legacy. We recommend using instead the native Keras format, e.g. `model.save('my_model.keras')` or `keras.saving.save_model(model, 'my_model.keras')`. \n"
     ]
    },
    {
     "name": "stdout",
     "output_type": "stream",
     "text": [
      "\u001b[1m250/250\u001b[0m \u001b[32m━━━━━━━━━━━━━━━━━━━━\u001b[0m\u001b[37m\u001b[0m \u001b[1m162s\u001b[0m 647ms/step - accuracy: 0.7481 - loss: 0.6515 - val_accuracy: 0.7823 - val_loss: 0.5354 - learning_rate: 0.0010\n",
      "Epoch 24/50\n",
      "\u001b[1m250/250\u001b[0m \u001b[32m━━━━━━━━━━━━━━━━━━━━\u001b[0m\u001b[37m\u001b[0m \u001b[1m0s\u001b[0m 551ms/step - accuracy: 0.7580 - loss: 0.6274\n",
      "Epoch 24: val_loss did not improve from 0.53542\n",
      "\u001b[1m250/250\u001b[0m \u001b[32m━━━━━━━━━━━━━━━━━━━━\u001b[0m\u001b[37m\u001b[0m \u001b[1m162s\u001b[0m 649ms/step - accuracy: 0.7506 - loss: 0.6410 - val_accuracy: 0.7801 - val_loss: 0.5462 - learning_rate: 0.0010\n",
      "Epoch 25/50\n",
      "\u001b[1m250/250\u001b[0m \u001b[32m━━━━━━━━━━━━━━━━━━━━\u001b[0m\u001b[37m\u001b[0m \u001b[1m0s\u001b[0m 510ms/step - accuracy: 0.7370 - loss: 0.6708\n",
      "Epoch 25: val_loss did not improve from 0.53542\n",
      "\u001b[1m250/250\u001b[0m \u001b[32m━━━━━━━━━━━━━━━━━━━━\u001b[0m\u001b[37m\u001b[0m \u001b[1m150s\u001b[0m 602ms/step - accuracy: 0.7442 - loss: 0.6574 - val_accuracy: 0.7726 - val_loss: 0.5609 - learning_rate: 0.0010\n",
      "Epoch 26/50\n",
      "\u001b[1m250/250\u001b[0m \u001b[32m━━━━━━━━━━━━━━━━━━━━\u001b[0m\u001b[37m\u001b[0m \u001b[1m0s\u001b[0m 515ms/step - accuracy: 0.7489 - loss: 0.6450\n",
      "Epoch 26: ReduceLROnPlateau reducing learning rate to 0.0005000000237487257.\n",
      "\n",
      "Epoch 26: val_loss did not improve from 0.53542\n",
      "\u001b[1m250/250\u001b[0m \u001b[32m━━━━━━━━━━━━━━━━━━━━\u001b[0m\u001b[37m\u001b[0m \u001b[1m154s\u001b[0m 615ms/step - accuracy: 0.7454 - loss: 0.6497 - val_accuracy: 0.7748 - val_loss: 0.5498 - learning_rate: 0.0010\n",
      "Epoch 27/50\n",
      "\u001b[1m250/250\u001b[0m \u001b[32m━━━━━━━━━━━━━━━━━━━━\u001b[0m\u001b[37m\u001b[0m \u001b[1m0s\u001b[0m 546ms/step - accuracy: 0.7595 - loss: 0.6289\n",
      "Epoch 27: val_loss improved from 0.53542 to 0.53254, saving model to model/best_model.h5\n"
     ]
    },
    {
     "name": "stderr",
     "output_type": "stream",
     "text": [
      "WARNING:absl:You are saving your model as an HDF5 file via `model.save()` or `keras.saving.save_model(model)`. This file format is considered legacy. We recommend using instead the native Keras format, e.g. `model.save('my_model.keras')` or `keras.saving.save_model(model, 'my_model.keras')`. \n"
     ]
    },
    {
     "name": "stdout",
     "output_type": "stream",
     "text": [
      "\u001b[1m250/250\u001b[0m \u001b[32m━━━━━━━━━━━━━━━━━━━━\u001b[0m\u001b[37m\u001b[0m \u001b[1m161s\u001b[0m 645ms/step - accuracy: 0.7631 - loss: 0.6160 - val_accuracy: 0.7865 - val_loss: 0.5325 - learning_rate: 5.0000e-04\n",
      "Epoch 28/50\n",
      "\u001b[1m250/250\u001b[0m \u001b[32m━━━━━━━━━━━━━━━━━━━━\u001b[0m\u001b[37m\u001b[0m \u001b[1m0s\u001b[0m 548ms/step - accuracy: 0.7680 - loss: 0.6096\n",
      "Epoch 28: val_loss improved from 0.53254 to 0.51859, saving model to model/best_model.h5\n"
     ]
    },
    {
     "name": "stderr",
     "output_type": "stream",
     "text": [
      "WARNING:absl:You are saving your model as an HDF5 file via `model.save()` or `keras.saving.save_model(model)`. This file format is considered legacy. We recommend using instead the native Keras format, e.g. `model.save('my_model.keras')` or `keras.saving.save_model(model, 'my_model.keras')`. \n"
     ]
    },
    {
     "name": "stdout",
     "output_type": "stream",
     "text": [
      "\u001b[1m250/250\u001b[0m \u001b[32m━━━━━━━━━━━━━━━━━━━━\u001b[0m\u001b[37m\u001b[0m \u001b[1m162s\u001b[0m 647ms/step - accuracy: 0.7635 - loss: 0.6137 - val_accuracy: 0.7910 - val_loss: 0.5186 - learning_rate: 5.0000e-04\n",
      "Epoch 29/50\n",
      "\u001b[1m250/250\u001b[0m \u001b[32m━━━━━━━━━━━━━━━━━━━━\u001b[0m\u001b[37m\u001b[0m \u001b[1m0s\u001b[0m 545ms/step - accuracy: 0.7779 - loss: 0.5962\n",
      "Epoch 29: val_loss improved from 0.51859 to 0.50341, saving model to model/best_model.h5\n"
     ]
    },
    {
     "name": "stderr",
     "output_type": "stream",
     "text": [
      "WARNING:absl:You are saving your model as an HDF5 file via `model.save()` or `keras.saving.save_model(model)`. This file format is considered legacy. We recommend using instead the native Keras format, e.g. `model.save('my_model.keras')` or `keras.saving.save_model(model, 'my_model.keras')`. \n"
     ]
    },
    {
     "name": "stdout",
     "output_type": "stream",
     "text": [
      "\u001b[1m250/250\u001b[0m \u001b[32m━━━━━━━━━━━━━━━━━━━━\u001b[0m\u001b[37m\u001b[0m \u001b[1m161s\u001b[0m 644ms/step - accuracy: 0.7718 - loss: 0.6011 - val_accuracy: 0.7891 - val_loss: 0.5034 - learning_rate: 5.0000e-04\n",
      "Epoch 30/50\n",
      "\u001b[1m250/250\u001b[0m \u001b[32m━━━━━━━━━━━━━━━━━━━━\u001b[0m\u001b[37m\u001b[0m \u001b[1m0s\u001b[0m 564ms/step - accuracy: 0.7633 - loss: 0.6050\n",
      "Epoch 30: val_loss did not improve from 0.50341\n",
      "\u001b[1m250/250\u001b[0m \u001b[32m━━━━━━━━━━━━━━━━━━━━\u001b[0m\u001b[37m\u001b[0m \u001b[1m167s\u001b[0m 668ms/step - accuracy: 0.7603 - loss: 0.6051 - val_accuracy: 0.7895 - val_loss: 0.5155 - learning_rate: 5.0000e-04\n",
      "Epoch 31/50\n",
      "\u001b[1m250/250\u001b[0m \u001b[32m━━━━━━━━━━━━━━━━━━━━\u001b[0m\u001b[37m\u001b[0m \u001b[1m0s\u001b[0m 629ms/step - accuracy: 0.7666 - loss: 0.5985\n",
      "Epoch 31: val_loss did not improve from 0.50341\n",
      "\u001b[1m250/250\u001b[0m \u001b[32m━━━━━━━━━━━━━━━━━━━━\u001b[0m\u001b[37m\u001b[0m \u001b[1m186s\u001b[0m 745ms/step - accuracy: 0.7681 - loss: 0.5919 - val_accuracy: 0.7891 - val_loss: 0.5155 - learning_rate: 5.0000e-04\n",
      "Epoch 32/50\n",
      "\u001b[1m250/250\u001b[0m \u001b[32m━━━━━━━━━━━━━━━━━━━━\u001b[0m\u001b[37m\u001b[0m \u001b[1m0s\u001b[0m 611ms/step - accuracy: 0.7715 - loss: 0.5928\n",
      "Epoch 32: ReduceLROnPlateau reducing learning rate to 0.0002500000118743628.\n",
      "\n",
      "Epoch 32: val_loss did not improve from 0.50341\n",
      "\u001b[1m250/250\u001b[0m \u001b[32m━━━━━━━━━━━━━━━━━━━━\u001b[0m\u001b[37m\u001b[0m \u001b[1m181s\u001b[0m 723ms/step - accuracy: 0.7722 - loss: 0.5902 - val_accuracy: 0.7827 - val_loss: 0.5356 - learning_rate: 5.0000e-04\n",
      "Epoch 33/50\n",
      "\u001b[1m250/250\u001b[0m \u001b[32m━━━━━━━━━━━━━━━━━━━━\u001b[0m\u001b[37m\u001b[0m \u001b[1m0s\u001b[0m 601ms/step - accuracy: 0.7598 - loss: 0.5998\n",
      "Epoch 33: val_loss did not improve from 0.50341\n",
      "\u001b[1m250/250\u001b[0m \u001b[32m━━━━━━━━━━━━━━━━━━━━\u001b[0m\u001b[37m\u001b[0m \u001b[1m178s\u001b[0m 713ms/step - accuracy: 0.7711 - loss: 0.5790 - val_accuracy: 0.7883 - val_loss: 0.5143 - learning_rate: 2.5000e-04\n",
      "Epoch 34/50\n",
      "\u001b[1m250/250\u001b[0m \u001b[32m━━━━━━━━━━━━━━━━━━━━\u001b[0m\u001b[37m\u001b[0m \u001b[1m0s\u001b[0m 593ms/step - accuracy: 0.7761 - loss: 0.6019\n",
      "Epoch 34: val_loss did not improve from 0.50341\n",
      "\u001b[1m250/250\u001b[0m \u001b[32m━━━━━━━━━━━━━━━━━━━━\u001b[0m\u001b[37m\u001b[0m \u001b[1m175s\u001b[0m 701ms/step - accuracy: 0.7742 - loss: 0.5887 - val_accuracy: 0.7921 - val_loss: 0.5085 - learning_rate: 2.5000e-04\n",
      "Epoch 35/50\n",
      "\u001b[1m250/250\u001b[0m \u001b[32m━━━━━━━━━━━━━━━━━━━━\u001b[0m\u001b[37m\u001b[0m \u001b[1m0s\u001b[0m 506ms/step - accuracy: 0.7791 - loss: 0.5775\n",
      "Epoch 35: ReduceLROnPlateau reducing learning rate to 0.0001250000059371814.\n",
      "\n",
      "Epoch 35: val_loss did not improve from 0.50341\n",
      "\u001b[1m250/250\u001b[0m \u001b[32m━━━━━━━━━━━━━━━━━━━━\u001b[0m\u001b[37m\u001b[0m \u001b[1m150s\u001b[0m 598ms/step - accuracy: 0.7786 - loss: 0.5778 - val_accuracy: 0.7932 - val_loss: 0.5078 - learning_rate: 2.5000e-04\n",
      "Epoch 36/50\n",
      "\u001b[1m250/250\u001b[0m \u001b[32m━━━━━━━━━━━━━━━━━━━━\u001b[0m\u001b[37m\u001b[0m \u001b[1m0s\u001b[0m 514ms/step - accuracy: 0.7752 - loss: 0.5693\n",
      "Epoch 36: val_loss did not improve from 0.50341\n",
      "\u001b[1m250/250\u001b[0m \u001b[32m━━━━━━━━━━━━━━━━━━━━\u001b[0m\u001b[37m\u001b[0m \u001b[1m153s\u001b[0m 613ms/step - accuracy: 0.7742 - loss: 0.5800 - val_accuracy: 0.7876 - val_loss: 0.5137 - learning_rate: 1.2500e-04\n",
      "Epoch 36: early stopping\n",
      "Restoring model weights from the end of the best epoch: 29.\n"
     ]
    }
   ],
   "source": [
    "history = model.fit(\n",
    "    train_generator,\n",
    "    validation_data=val_generator,\n",
    "    epochs=INITIAL_EPOCHS,\n",
    "    callbacks=[early_stopping, reduce_lr, checkpoint]\n",
    ")"
   ]
  },
  {
   "cell_type": "markdown",
   "id": "6f8704d1",
   "metadata": {},
   "source": [
    "Fine-tuning"
   ]
  },
  {
   "cell_type": "code",
   "execution_count": 13,
   "id": "02ad2d0d",
   "metadata": {},
   "outputs": [],
   "source": [
    "# Unfreeze last 20% of layers for fine-tuning\n",
    "num_layers_to_unfreeze = int(len(model.layers) * 0.2)\n",
    "for layer in model.layers[-num_layers_to_unfreeze:]:\n",
    "    layer.trainable = True\n",
    "\n",
    "# Compile again with lower LR\n",
    "model.compile(optimizer=tf.keras.optimizers.Adam(learning_rate=1e-4),\n",
    "              loss='categorical_crossentropy',\n",
    "              metrics=['accuracy'])"
   ]
  },
  {
   "cell_type": "code",
   "execution_count": 14,
   "id": "feabf868",
   "metadata": {},
   "outputs": [
    {
     "name": "stdout",
     "output_type": "stream",
     "text": [
      "Epoch 37/120\n",
      "\u001b[1m250/250\u001b[0m \u001b[32m━━━━━━━━━━━━━━━━━━━━\u001b[0m\u001b[37m\u001b[0m \u001b[1m0s\u001b[0m 533ms/step - accuracy: 0.3651 - loss: 8.6839\n",
      "Epoch 37: val_loss did not improve from 0.50341\n",
      "\u001b[1m250/250\u001b[0m \u001b[32m━━━━━━━━━━━━━━━━━━━━\u001b[0m\u001b[37m\u001b[0m \u001b[1m165s\u001b[0m 635ms/step - accuracy: 0.4667 - loss: 4.7724 - val_accuracy: 0.0677 - val_loss: 191.3344 - learning_rate: 1.0000e-04\n",
      "Epoch 38/120\n",
      "\u001b[1m250/250\u001b[0m \u001b[32m━━━━━━━━━━━━━━━━━━━━\u001b[0m\u001b[37m\u001b[0m \u001b[1m0s\u001b[0m 550ms/step - accuracy: 0.5695 - loss: 2.0800\n",
      "Epoch 38: val_loss did not improve from 0.50341\n",
      "\u001b[1m250/250\u001b[0m \u001b[32m━━━━━━━━━━━━━━━━━━━━\u001b[0m\u001b[37m\u001b[0m \u001b[1m162s\u001b[0m 650ms/step - accuracy: 0.5796 - loss: 1.8805 - val_accuracy: 0.0677 - val_loss: 170.8610 - learning_rate: 1.0000e-04\n",
      "Epoch 39/120\n",
      "\u001b[1m250/250\u001b[0m \u001b[32m━━━━━━━━━━━━━━━━━━━━\u001b[0m\u001b[37m\u001b[0m \u001b[1m0s\u001b[0m 573ms/step - accuracy: 0.6113 - loss: 1.4833\n",
      "Epoch 39: val_loss did not improve from 0.50341\n",
      "\n",
      "Epoch 39: ReduceLROnPlateau reducing learning rate to 4.999999873689376e-05.\n",
      "\u001b[1m250/250\u001b[0m \u001b[32m━━━━━━━━━━━━━━━━━━━━\u001b[0m\u001b[37m\u001b[0m \u001b[1m168s\u001b[0m 674ms/step - accuracy: 0.6161 - loss: 1.4281 - val_accuracy: 0.0677 - val_loss: 149.1537 - learning_rate: 1.0000e-04\n",
      "Epoch 40/120\n",
      "\u001b[1m250/250\u001b[0m \u001b[32m━━━━━━━━━━━━━━━━━━━━\u001b[0m\u001b[37m\u001b[0m \u001b[1m0s\u001b[0m 572ms/step - accuracy: 0.6411 - loss: 1.2745\n",
      "Epoch 40: val_loss did not improve from 0.50341\n",
      "\u001b[1m250/250\u001b[0m \u001b[32m━━━━━━━━━━━━━━━━━━━━\u001b[0m\u001b[37m\u001b[0m \u001b[1m168s\u001b[0m 672ms/step - accuracy: 0.6446 - loss: 1.2191 - val_accuracy: 0.0677 - val_loss: 143.5982 - learning_rate: 5.0000e-05\n",
      "Epoch 41/120\n",
      "\u001b[1m250/250\u001b[0m \u001b[32m━━━━━━━━━━━━━━━━━━━━\u001b[0m\u001b[37m\u001b[0m \u001b[1m0s\u001b[0m 587ms/step - accuracy: 0.6569 - loss: 1.0754\n",
      "Epoch 41: val_loss did not improve from 0.50341\n",
      "\u001b[1m250/250\u001b[0m \u001b[32m━━━━━━━━━━━━━━━━━━━━\u001b[0m\u001b[37m\u001b[0m \u001b[1m172s\u001b[0m 687ms/step - accuracy: 0.6537 - loss: 1.0836 - val_accuracy: 0.0677 - val_loss: 137.6472 - learning_rate: 5.0000e-05\n",
      "Epoch 42/120\n",
      "\u001b[1m250/250\u001b[0m \u001b[32m━━━━━━━━━━━━━━━━━━━━\u001b[0m\u001b[37m\u001b[0m \u001b[1m0s\u001b[0m 573ms/step - accuracy: 0.6703 - loss: 1.0554\n",
      "Epoch 42: val_loss did not improve from 0.50341\n",
      "\n",
      "Epoch 42: ReduceLROnPlateau reducing learning rate to 2.499999936844688e-05.\n",
      "\u001b[1m250/250\u001b[0m \u001b[32m━━━━━━━━━━━━━━━━━━━━\u001b[0m\u001b[37m\u001b[0m \u001b[1m169s\u001b[0m 673ms/step - accuracy: 0.6700 - loss: 1.0460 - val_accuracy: 0.0677 - val_loss: 126.3564 - learning_rate: 5.0000e-05\n",
      "Epoch 43/120\n",
      "\u001b[1m250/250\u001b[0m \u001b[32m━━━━━━━━━━━━━━━━━━━━\u001b[0m\u001b[37m\u001b[0m \u001b[1m0s\u001b[0m 577ms/step - accuracy: 0.6813 - loss: 0.9753\n",
      "Epoch 43: val_loss did not improve from 0.50341\n",
      "\u001b[1m250/250\u001b[0m \u001b[32m━━━━━━━━━━━━━━━━━━━━\u001b[0m\u001b[37m\u001b[0m \u001b[1m169s\u001b[0m 676ms/step - accuracy: 0.6708 - loss: 1.0029 - val_accuracy: 0.0677 - val_loss: 118.4613 - learning_rate: 2.5000e-05\n",
      "Epoch 43: early stopping\n",
      "Restoring model weights from the end of the best epoch: 37.\n"
     ]
    }
   ],
   "source": [
    "fine_tune_history = model.fit(\n",
    "    train_generator,\n",
    "    validation_data=val_generator,\n",
    "    epochs=TOTAL_EPOCHS,\n",
    "    initial_epoch=history.epoch[-1] + 1,\n",
    "    callbacks=[early_stopping, checkpoint, reduce_lr]\n",
    ")"
   ]
  },
  {
   "cell_type": "markdown",
   "id": "bda2f0ea",
   "metadata": {},
   "source": [
    "Plot Training Results"
   ]
  },
  {
   "cell_type": "code",
   "execution_count": 15,
   "id": "ef0f6bf7",
   "metadata": {},
   "outputs": [
    {
     "data": {
      "image/png": "[encoded data removed]",
      "text/plain": [
       "<Figure size 1200x500 with 2 Axes>"
      ]
     },
     "metadata": {},
     "output_type": "display_data"
    }
   ],
   "source": [
    "plt.figure(figsize=(12, 5))\n",
    "\n",
    "plt.subplot(1, 2, 1)\n",
    "plt.plot(history.history['accuracy'] + fine_tune_history.history['accuracy'], label='Train Accuracy', color='green')\n",
    "plt.plot(history.history['val_accuracy'] + fine_tune_history.history['val_accuracy'], label='Val Accuracy', color='orange')\n",
    "plt.title('Model Accuracy')\n",
    "plt.xlabel('Epoch')\n",
    "plt.ylabel('Accuracy')\n",
    "plt.legend()\n",
    "plt.grid(True)\n",
    "\n",
    "plt.subplot(1, 2, 2)\n",
    "plt.plot(history.history['loss'] + fine_tune_history.history['loss'], label='Train Loss', color='red')\n",
    "plt.plot(history.history['val_loss'] + fine_tune_history.history['val_loss'], label='Val Loss', color='blue')\n",
    "plt.title('Model Loss')\n",
    "plt.xlabel('Epoch')\n",
    "plt.ylabel('Loss')\n",
    "plt.legend()\n",
    "plt.grid(True)\n",
    "\n",
    "plt.tight_layout()\n",
    "plt.show()"
   ]
  },
  {
   "cell_type": "markdown",
   "id": "4c7f8e17",
   "metadata": {},
   "source": [
    "Evaluate on test set"
   ]
  },
  {
   "cell_type": "code",
   "execution_count": 16,
   "id": "044dd932",
   "metadata": {},
   "outputs": [
    {
     "name": "stdout",
     "output_type": "stream",
     "text": [
      "\n",
      "Evaluating on test data...\n",
      "\u001b[1m84/84\u001b[0m \u001b[32m━━━━━━━━━━━━━━━━━━━━\u001b[0m\u001b[37m\u001b[0m \u001b[1m27s\u001b[0m 321ms/step - accuracy: 0.0677 - loss: 191.2993\n",
      "Test accuracy: 6.77, Test Loss: 191.30\n"
     ]
    }
   ],
   "source": [
    "print(\"\\nEvaluating on test data...\")\n",
    "test_loss, test_acc = model.evaluate(test_generator)\n",
    "print(f\"Test accuracy: {test_acc*100:.2f}, Test Loss: {test_loss:.2f}\")"
   ]
  },
  {
   "cell_type": "markdown",
   "id": "1d1bd9fc",
   "metadata": {},
   "source": [
    "Making it LightWeight"
   ]
  },
  {
   "cell_type": "code",
   "execution_count": 10,
   "id": "caa34876",
   "metadata": {},
   "outputs": [
    {
     "name": "stderr",
     "output_type": "stream",
     "text": [
      "WARNING:absl:Compiled the loaded model, but the compiled metrics have yet to be built. `model.compile_metrics` will be empty until you train or evaluate the model.\n"
     ]
    }
   ],
   "source": [
    "model = tf.keras.models.load_model(\"model/best_model.h5\")\n",
    "# model.summary()"
   ]
  },
  {
   "cell_type": "code",
   "execution_count": 11,
   "id": "61c5bec5",
   "metadata": {},
   "outputs": [
    {
     "name": "stdout",
     "output_type": "stream",
     "text": [
      "\n",
      "Evaluating model on test data...\n"
     ]
    },
    {
     "name": "stderr",
     "output_type": "stream",
     "text": [
      "e:\\PROJECTS\\Krishi-Sahayak\\krishi-model\\venv\\Lib\\site-packages\\keras\\src\\trainers\\data_adapters\\py_dataset_adapter.py:121: UserWarning: Your `PyDataset` class should call `super().__init__(**kwargs)` in its constructor. `**kwargs` can include `workers`, `use_multiprocessing`, `max_queue_size`. Do not pass these arguments to `fit()`, as they will be ignored.\n",
      "  self._warn_if_super_not_called()\n"
     ]
    },
    {
     "name": "stdout",
     "output_type": "stream",
     "text": [
      "\u001b[1m84/84\u001b[0m \u001b[32m━━━━━━━━━━━━━━━━━━━━\u001b[0m\u001b[37m\u001b[0m \u001b[1m82s\u001b[0m 905ms/step - accuracy: 0.9188 - loss: 0.2127\n",
      "Model - Test accuracy: 91.88%, Test Loss: 0.21\n"
     ]
    }
   ],
   "source": [
    "print(\"\\nEvaluating model on test data...\")\n",
    "test_loss, test_acc = model.evaluate(test_generator)\n",
    "print(f\"Model - Test accuracy: {test_acc*100:.2f}%, Test Loss: {test_loss:.2f}\")"
   ]
  },
  {
   "cell_type": "markdown",
   "id": "39b2fab2",
   "metadata": {},
   "source": [
    "Pruning"
   ]
  },
  {
   "cell_type": "code",
   "execution_count": null,
   "id": "582c0fd7",
   "metadata": {},
   "outputs": [
    {
     "name": "stdout",
     "output_type": "stream",
     "text": [
      "\u001b[1m84/84\u001b[0m \u001b[32m━━━━━━━━━━━━━━━━━━━━\u001b[0m\u001b[37m\u001b[0m \u001b[1m70s\u001b[0m 842ms/step - accuracy: 0.5262 - loss: 2.9732\n",
      "Accuracy after pruning: 52.62%\n"
     ]
    }
   ],
   "source": [
    "# def prune_weights(model, amount=0.2):\n",
    "#     \"\"\"Set the smallest weights in each layer to zero.\"\"\"\n",
    "#     for layer in model.layers:\n",
    "#         if hasattr(layer, 'kernel'):\n",
    "#             w = layer.kernel.numpy()\n",
    "#             threshold = np.percentile(np.abs(w), amount*100)\n",
    "#             w[np.abs(w) < threshold] = 0\n",
    "#             layer.kernel.assign(w)\n",
    "#     return model\n",
    "\n",
    "# model_pruned = prune_weights(model, amount=0.2)\n",
    "# loss, acc = model_pruned.evaluate(test_generator)\n",
    "# print(f\"Accuracy after pruning: {acc*100:.2f}%\")"
   ]
  },
  {
   "cell_type": "code",
   "execution_count": 16,
   "id": "852124b7",
   "metadata": {},
   "outputs": [
    {
     "name": "stdout",
     "output_type": "stream",
     "text": [
      "INFO:tensorflow:Assets written to: C:\\Users\\piyus\\AppData\\Local\\Temp\\tmpij677sqk\\assets\n"
     ]
    },
    {
     "name": "stderr",
     "output_type": "stream",
     "text": [
      "INFO:tensorflow:Assets written to: C:\\Users\\piyus\\AppData\\Local\\Temp\\tmpij677sqk\\assets\n"
     ]
    },
    {
     "name": "stdout",
     "output_type": "stream",
     "text": [
      "Saved artifact at 'C:\\Users\\piyus\\AppData\\Local\\Temp\\tmpij677sqk'. The following endpoints are available:\n",
      "\n",
      "* Endpoint 'serve'\n",
      "  args_0 (POSITIONAL_ONLY): TensorSpec(shape=(None, 224, 224, 3), dtype=tf.float32, name='input_layer')\n",
      "Output Type:\n",
      "  TensorSpec(shape=(None, 17), dtype=tf.float32, name=None)\n",
      "Captures:\n",
      "  2540989294416: TensorSpec(shape=(), dtype=tf.resource, name=None)\n",
      "  2540985643664: TensorSpec(shape=(), dtype=tf.resource, name=None)\n",
      "  2540989293840: TensorSpec(shape=(), dtype=tf.resource, name=None)\n",
      "  2540985641552: TensorSpec(shape=(), dtype=tf.resource, name=None)\n",
      "  2540989293648: TensorSpec(shape=(), dtype=tf.resource, name=None)\n",
      "  2540985643472: TensorSpec(shape=(), dtype=tf.resource, name=None)\n",
      "  2540989928208: TensorSpec(shape=(), dtype=tf.resource, name=None)\n",
      "  2540989928592: TensorSpec(shape=(), dtype=tf.resource, name=None)\n",
      "  2540985641744: TensorSpec(shape=(), dtype=tf.resource, name=None)\n",
      "  2540989294032: TensorSpec(shape=(), dtype=tf.resource, name=None)\n",
      "  2540989928400: TensorSpec(shape=(), dtype=tf.resource, name=None)\n",
      "  2540989929360: TensorSpec(shape=(), dtype=tf.resource, name=None)\n",
      "  2540989929168: TensorSpec(shape=(), dtype=tf.resource, name=None)\n",
      "  2540989928784: TensorSpec(shape=(), dtype=tf.resource, name=None)\n",
      "  2540989930512: TensorSpec(shape=(), dtype=tf.resource, name=None)\n",
      "  2540989929936: TensorSpec(shape=(), dtype=tf.resource, name=None)\n",
      "  2540989930128: TensorSpec(shape=(), dtype=tf.resource, name=None)\n",
      "  2540989930320: TensorSpec(shape=(), dtype=tf.resource, name=None)\n",
      "  2540989929552: TensorSpec(shape=(), dtype=tf.resource, name=None)\n",
      "  2540989931472: TensorSpec(shape=(), dtype=tf.resource, name=None)\n",
      "  2540989930896: TensorSpec(shape=(), dtype=tf.resource, name=None)\n",
      "  2540989931088: TensorSpec(shape=(), dtype=tf.resource, name=None)\n",
      "  2540989931280: TensorSpec(shape=(), dtype=tf.resource, name=None)\n",
      "  2540989928976: TensorSpec(shape=(), dtype=tf.resource, name=None)\n",
      "  2540989932432: TensorSpec(shape=(), dtype=tf.resource, name=None)\n",
      "  2540989931856: TensorSpec(shape=(), dtype=tf.resource, name=None)\n",
      "  2540989932048: TensorSpec(shape=(), dtype=tf.resource, name=None)\n",
      "  2540989932240: TensorSpec(shape=(), dtype=tf.resource, name=None)\n",
      "  2540989929744: TensorSpec(shape=(), dtype=tf.resource, name=None)\n",
      "  2540989933392: TensorSpec(shape=(), dtype=tf.resource, name=None)\n",
      "  2540989932816: TensorSpec(shape=(), dtype=tf.resource, name=None)\n",
      "  2540989933008: TensorSpec(shape=(), dtype=tf.resource, name=None)\n",
      "  2540989933200: TensorSpec(shape=(), dtype=tf.resource, name=None)\n",
      "  2540989930704: TensorSpec(shape=(), dtype=tf.resource, name=None)\n",
      "  2540989934352: TensorSpec(shape=(), dtype=tf.resource, name=None)\n",
      "  2540989933776: TensorSpec(shape=(), dtype=tf.resource, name=None)\n",
      "  2540989933968: TensorSpec(shape=(), dtype=tf.resource, name=None)\n",
      "  2540989934160: TensorSpec(shape=(), dtype=tf.resource, name=None)\n",
      "  2540989931664: TensorSpec(shape=(), dtype=tf.resource, name=None)\n",
      "  2540989935312: TensorSpec(shape=(), dtype=tf.resource, name=None)\n",
      "  2540989934736: TensorSpec(shape=(), dtype=tf.resource, name=None)\n",
      "  2540989934928: TensorSpec(shape=(), dtype=tf.resource, name=None)\n",
      "  2540989935120: TensorSpec(shape=(), dtype=tf.resource, name=None)\n",
      "  2540989932624: TensorSpec(shape=(), dtype=tf.resource, name=None)\n",
      "  2540989936272: TensorSpec(shape=(), dtype=tf.resource, name=None)\n",
      "  2540989935696: TensorSpec(shape=(), dtype=tf.resource, name=None)\n",
      "  2540989935888: TensorSpec(shape=(), dtype=tf.resource, name=None)\n",
      "  2540989936080: TensorSpec(shape=(), dtype=tf.resource, name=None)\n",
      "  2540989933584: TensorSpec(shape=(), dtype=tf.resource, name=None)\n",
      "  2540989937232: TensorSpec(shape=(), dtype=tf.resource, name=None)\n",
      "  2540989936656: TensorSpec(shape=(), dtype=tf.resource, name=None)\n",
      "  2540989936848: TensorSpec(shape=(), dtype=tf.resource, name=None)\n",
      "  2540989937040: TensorSpec(shape=(), dtype=tf.resource, name=None)\n",
      "  2540989934544: TensorSpec(shape=(), dtype=tf.resource, name=None)\n",
      "  2540989938192: TensorSpec(shape=(), dtype=tf.resource, name=None)\n",
      "  2540989937616: TensorSpec(shape=(), dtype=tf.resource, name=None)\n",
      "  2540989937808: TensorSpec(shape=(), dtype=tf.resource, name=None)\n",
      "  2540989938000: TensorSpec(shape=(), dtype=tf.resource, name=None)\n",
      "  2540989935504: TensorSpec(shape=(), dtype=tf.resource, name=None)\n",
      "  2540989939152: TensorSpec(shape=(), dtype=tf.resource, name=None)\n",
      "  2540989938576: TensorSpec(shape=(), dtype=tf.resource, name=None)\n",
      "  2540989936464: TensorSpec(shape=(), dtype=tf.resource, name=None)\n",
      "  2540989939344: TensorSpec(shape=(), dtype=tf.resource, name=None)\n",
      "  2540989938768: TensorSpec(shape=(), dtype=tf.resource, name=None)\n",
      "  2540989939536: TensorSpec(shape=(), dtype=tf.resource, name=None)\n",
      "  2540989938960: TensorSpec(shape=(), dtype=tf.resource, name=None)\n",
      "  2540992250320: TensorSpec(shape=(), dtype=tf.resource, name=None)\n",
      "  2540992251280: TensorSpec(shape=(), dtype=tf.resource, name=None)\n",
      "  2540989937424: TensorSpec(shape=(), dtype=tf.resource, name=None)\n",
      "  2540989938384: TensorSpec(shape=(), dtype=tf.resource, name=None)\n",
      "  2540992251088: TensorSpec(shape=(), dtype=tf.resource, name=None)\n",
      "  2540992250128: TensorSpec(shape=(), dtype=tf.resource, name=None)\n",
      "  2540992249936: TensorSpec(shape=(), dtype=tf.resource, name=None)\n",
      "  2540992250512: TensorSpec(shape=(), dtype=tf.resource, name=None)\n",
      "  2540992252240: TensorSpec(shape=(), dtype=tf.resource, name=None)\n",
      "  2540992251664: TensorSpec(shape=(), dtype=tf.resource, name=None)\n",
      "  2540992251856: TensorSpec(shape=(), dtype=tf.resource, name=None)\n",
      "  2540992252048: TensorSpec(shape=(), dtype=tf.resource, name=None)\n",
      "  2540992250896: TensorSpec(shape=(), dtype=tf.resource, name=None)\n",
      "  2540992253200: TensorSpec(shape=(), dtype=tf.resource, name=None)\n",
      "  2540992252624: TensorSpec(shape=(), dtype=tf.resource, name=None)\n",
      "  2540992252816: TensorSpec(shape=(), dtype=tf.resource, name=None)\n",
      "  2540992253008: TensorSpec(shape=(), dtype=tf.resource, name=None)\n",
      "  2540992250704: TensorSpec(shape=(), dtype=tf.resource, name=None)\n",
      "  2540992254160: TensorSpec(shape=(), dtype=tf.resource, name=None)\n",
      "  2540992253584: TensorSpec(shape=(), dtype=tf.resource, name=None)\n",
      "  2540992253776: TensorSpec(shape=(), dtype=tf.resource, name=None)\n",
      "  2540992253968: TensorSpec(shape=(), dtype=tf.resource, name=None)\n",
      "  2540992251472: TensorSpec(shape=(), dtype=tf.resource, name=None)\n",
      "  2540992255120: TensorSpec(shape=(), dtype=tf.resource, name=None)\n",
      "  2540992254544: TensorSpec(shape=(), dtype=tf.resource, name=None)\n",
      "  2540992254736: TensorSpec(shape=(), dtype=tf.resource, name=None)\n",
      "  2540992254928: TensorSpec(shape=(), dtype=tf.resource, name=None)\n",
      "  2540992252432: TensorSpec(shape=(), dtype=tf.resource, name=None)\n",
      "  2540992256080: TensorSpec(shape=(), dtype=tf.resource, name=None)\n",
      "  2540992255504: TensorSpec(shape=(), dtype=tf.resource, name=None)\n",
      "  2540992255696: TensorSpec(shape=(), dtype=tf.resource, name=None)\n",
      "  2540992255888: TensorSpec(shape=(), dtype=tf.resource, name=None)\n",
      "  2540992253392: TensorSpec(shape=(), dtype=tf.resource, name=None)\n",
      "  2540992257040: TensorSpec(shape=(), dtype=tf.resource, name=None)\n",
      "  2540992256464: TensorSpec(shape=(), dtype=tf.resource, name=None)\n",
      "  2540992256656: TensorSpec(shape=(), dtype=tf.resource, name=None)\n",
      "  2540992256848: TensorSpec(shape=(), dtype=tf.resource, name=None)\n",
      "  2540992254352: TensorSpec(shape=(), dtype=tf.resource, name=None)\n",
      "  2540992258000: TensorSpec(shape=(), dtype=tf.resource, name=None)\n",
      "  2540992257424: TensorSpec(shape=(), dtype=tf.resource, name=None)\n",
      "  2540992257616: TensorSpec(shape=(), dtype=tf.resource, name=None)\n",
      "  2540992257808: TensorSpec(shape=(), dtype=tf.resource, name=None)\n",
      "  2540992255312: TensorSpec(shape=(), dtype=tf.resource, name=None)\n",
      "  2540992258960: TensorSpec(shape=(), dtype=tf.resource, name=None)\n",
      "  2540992258384: TensorSpec(shape=(), dtype=tf.resource, name=None)\n",
      "  2540992258576: TensorSpec(shape=(), dtype=tf.resource, name=None)\n",
      "  2540992258768: TensorSpec(shape=(), dtype=tf.resource, name=None)\n",
      "  2540992256272: TensorSpec(shape=(), dtype=tf.resource, name=None)\n",
      "  2540992259920: TensorSpec(shape=(), dtype=tf.resource, name=None)\n",
      "  2540992259344: TensorSpec(shape=(), dtype=tf.resource, name=None)\n",
      "  2540992259536: TensorSpec(shape=(), dtype=tf.resource, name=None)\n",
      "  2540992259728: TensorSpec(shape=(), dtype=tf.resource, name=None)\n",
      "  2540992257232: TensorSpec(shape=(), dtype=tf.resource, name=None)\n",
      "  2540992260880: TensorSpec(shape=(), dtype=tf.resource, name=None)\n",
      "  2540992260304: TensorSpec(shape=(), dtype=tf.resource, name=None)\n",
      "  2540992260496: TensorSpec(shape=(), dtype=tf.resource, name=None)\n",
      "  2540992260688: TensorSpec(shape=(), dtype=tf.resource, name=None)\n",
      "  2540992258192: TensorSpec(shape=(), dtype=tf.resource, name=None)\n",
      "  2540992261840: TensorSpec(shape=(), dtype=tf.resource, name=None)\n",
      "  2540992261264: TensorSpec(shape=(), dtype=tf.resource, name=None)\n",
      "  2540992261456: TensorSpec(shape=(), dtype=tf.resource, name=None)\n",
      "  2540992261648: TensorSpec(shape=(), dtype=tf.resource, name=None)\n",
      "  2540992259152: TensorSpec(shape=(), dtype=tf.resource, name=None)\n",
      "  2540992262800: TensorSpec(shape=(), dtype=tf.resource, name=None)\n",
      "  2540992262224: TensorSpec(shape=(), dtype=tf.resource, name=None)\n",
      "  2540992262416: TensorSpec(shape=(), dtype=tf.resource, name=None)\n",
      "  2540992262608: TensorSpec(shape=(), dtype=tf.resource, name=None)\n",
      "  2540992260112: TensorSpec(shape=(), dtype=tf.resource, name=None)\n",
      "  2540992263760: TensorSpec(shape=(), dtype=tf.resource, name=None)\n",
      "  2540992263184: TensorSpec(shape=(), dtype=tf.resource, name=None)\n",
      "  2540992263376: TensorSpec(shape=(), dtype=tf.resource, name=None)\n",
      "  2540992263568: TensorSpec(shape=(), dtype=tf.resource, name=None)\n",
      "  2540992261072: TensorSpec(shape=(), dtype=tf.resource, name=None)\n",
      "  2540992264720: TensorSpec(shape=(), dtype=tf.resource, name=None)\n",
      "  2540992264144: TensorSpec(shape=(), dtype=tf.resource, name=None)\n",
      "  2540992264336: TensorSpec(shape=(), dtype=tf.resource, name=None)\n",
      "  2540992264528: TensorSpec(shape=(), dtype=tf.resource, name=None)\n",
      "  2540992262032: TensorSpec(shape=(), dtype=tf.resource, name=None)\n",
      "  2540992265680: TensorSpec(shape=(), dtype=tf.resource, name=None)\n",
      "  2540992265104: TensorSpec(shape=(), dtype=tf.resource, name=None)\n",
      "  2540992262992: TensorSpec(shape=(), dtype=tf.resource, name=None)\n",
      "  2540992265872: TensorSpec(shape=(), dtype=tf.resource, name=None)\n",
      "  2540992265296: TensorSpec(shape=(), dtype=tf.resource, name=None)\n",
      "  2540992266064: TensorSpec(shape=(), dtype=tf.resource, name=None)\n",
      "  2540992265488: TensorSpec(shape=(), dtype=tf.resource, name=None)\n",
      "  2540992611152: TensorSpec(shape=(), dtype=tf.resource, name=None)\n",
      "  2540992610960: TensorSpec(shape=(), dtype=tf.resource, name=None)\n",
      "  2540992263952: TensorSpec(shape=(), dtype=tf.resource, name=None)\n",
      "  2540992264912: TensorSpec(shape=(), dtype=tf.resource, name=None)\n",
      "  2540992610384: TensorSpec(shape=(), dtype=tf.resource, name=None)\n",
      "  2540992611536: TensorSpec(shape=(), dtype=tf.resource, name=None)\n",
      "  2540992611344: TensorSpec(shape=(), dtype=tf.resource, name=None)\n",
      "  2540992610576: TensorSpec(shape=(), dtype=tf.resource, name=None)\n",
      "  2540992612688: TensorSpec(shape=(), dtype=tf.resource, name=None)\n",
      "  2540992612112: TensorSpec(shape=(), dtype=tf.resource, name=None)\n",
      "  2540992612304: TensorSpec(shape=(), dtype=tf.resource, name=None)\n",
      "  2540992612496: TensorSpec(shape=(), dtype=tf.resource, name=None)\n",
      "  2540992611728: TensorSpec(shape=(), dtype=tf.resource, name=None)\n",
      "  2540992613648: TensorSpec(shape=(), dtype=tf.resource, name=None)\n",
      "  2540992613072: TensorSpec(shape=(), dtype=tf.resource, name=None)\n",
      "  2540992613264: TensorSpec(shape=(), dtype=tf.resource, name=None)\n",
      "  2540992613456: TensorSpec(shape=(), dtype=tf.resource, name=None)\n",
      "  2540992610768: TensorSpec(shape=(), dtype=tf.resource, name=None)\n",
      "  2540992614608: TensorSpec(shape=(), dtype=tf.resource, name=None)\n",
      "  2540992614032: TensorSpec(shape=(), dtype=tf.resource, name=None)\n",
      "  2540992614224: TensorSpec(shape=(), dtype=tf.resource, name=None)\n",
      "  2540992614416: TensorSpec(shape=(), dtype=tf.resource, name=None)\n",
      "  2540992611920: TensorSpec(shape=(), dtype=tf.resource, name=None)\n",
      "  2540992615568: TensorSpec(shape=(), dtype=tf.resource, name=None)\n",
      "  2540992614992: TensorSpec(shape=(), dtype=tf.resource, name=None)\n",
      "  2540992615184: TensorSpec(shape=(), dtype=tf.resource, name=None)\n",
      "  2540992615376: TensorSpec(shape=(), dtype=tf.resource, name=None)\n",
      "  2540992612880: TensorSpec(shape=(), dtype=tf.resource, name=None)\n",
      "  2540992616528: TensorSpec(shape=(), dtype=tf.resource, name=None)\n",
      "  2540992615952: TensorSpec(shape=(), dtype=tf.resource, name=None)\n",
      "  2540992616144: TensorSpec(shape=(), dtype=tf.resource, name=None)\n",
      "  2540992616336: TensorSpec(shape=(), dtype=tf.resource, name=None)\n",
      "  2540992613840: TensorSpec(shape=(), dtype=tf.resource, name=None)\n",
      "  2540992617488: TensorSpec(shape=(), dtype=tf.resource, name=None)\n",
      "  2540992616912: TensorSpec(shape=(), dtype=tf.resource, name=None)\n",
      "  2540992617104: TensorSpec(shape=(), dtype=tf.resource, name=None)\n",
      "  2540992617296: TensorSpec(shape=(), dtype=tf.resource, name=None)\n",
      "  2540992614800: TensorSpec(shape=(), dtype=tf.resource, name=None)\n",
      "  2540992618448: TensorSpec(shape=(), dtype=tf.resource, name=None)\n",
      "  2540992617872: TensorSpec(shape=(), dtype=tf.resource, name=None)\n",
      "  2540992618064: TensorSpec(shape=(), dtype=tf.resource, name=None)\n",
      "  2540992618256: TensorSpec(shape=(), dtype=tf.resource, name=None)\n",
      "  2540992615760: TensorSpec(shape=(), dtype=tf.resource, name=None)\n",
      "  2540992619408: TensorSpec(shape=(), dtype=tf.resource, name=None)\n",
      "  2540992618832: TensorSpec(shape=(), dtype=tf.resource, name=None)\n",
      "  2540992619024: TensorSpec(shape=(), dtype=tf.resource, name=None)\n",
      "  2540992619216: TensorSpec(shape=(), dtype=tf.resource, name=None)\n",
      "  2540992616720: TensorSpec(shape=(), dtype=tf.resource, name=None)\n",
      "  2540992620368: TensorSpec(shape=(), dtype=tf.resource, name=None)\n",
      "  2540992619792: TensorSpec(shape=(), dtype=tf.resource, name=None)\n",
      "  2540992619984: TensorSpec(shape=(), dtype=tf.resource, name=None)\n",
      "  2540992620176: TensorSpec(shape=(), dtype=tf.resource, name=None)\n",
      "  2540992617680: TensorSpec(shape=(), dtype=tf.resource, name=None)\n",
      "  2540992621328: TensorSpec(shape=(), dtype=tf.resource, name=None)\n",
      "  2540992620752: TensorSpec(shape=(), dtype=tf.resource, name=None)\n",
      "  2540992620944: TensorSpec(shape=(), dtype=tf.resource, name=None)\n",
      "  2540992621136: TensorSpec(shape=(), dtype=tf.resource, name=None)\n",
      "  2540992618640: TensorSpec(shape=(), dtype=tf.resource, name=None)\n",
      "  2540992622288: TensorSpec(shape=(), dtype=tf.resource, name=None)\n",
      "  2540992621712: TensorSpec(shape=(), dtype=tf.resource, name=None)\n",
      "  2540992621904: TensorSpec(shape=(), dtype=tf.resource, name=None)\n",
      "  2540992622096: TensorSpec(shape=(), dtype=tf.resource, name=None)\n",
      "  2540992619600: TensorSpec(shape=(), dtype=tf.resource, name=None)\n",
      "  2540992623248: TensorSpec(shape=(), dtype=tf.resource, name=None)\n",
      "  2540992622672: TensorSpec(shape=(), dtype=tf.resource, name=None)\n",
      "  2540992622864: TensorSpec(shape=(), dtype=tf.resource, name=None)\n",
      "  2540992623056: TensorSpec(shape=(), dtype=tf.resource, name=None)\n",
      "  2540992620560: TensorSpec(shape=(), dtype=tf.resource, name=None)\n",
      "  2540992624208: TensorSpec(shape=(), dtype=tf.resource, name=None)\n",
      "  2540992623632: TensorSpec(shape=(), dtype=tf.resource, name=None)\n",
      "  2540992623824: TensorSpec(shape=(), dtype=tf.resource, name=None)\n",
      "  2540992624016: TensorSpec(shape=(), dtype=tf.resource, name=None)\n",
      "  2540992621520: TensorSpec(shape=(), dtype=tf.resource, name=None)\n",
      "  2540992625168: TensorSpec(shape=(), dtype=tf.resource, name=None)\n",
      "  2540992624592: TensorSpec(shape=(), dtype=tf.resource, name=None)\n",
      "  2540992624784: TensorSpec(shape=(), dtype=tf.resource, name=None)\n",
      "  2540992624976: TensorSpec(shape=(), dtype=tf.resource, name=None)\n",
      "  2540992622480: TensorSpec(shape=(), dtype=tf.resource, name=None)\n",
      "  2540992626128: TensorSpec(shape=(), dtype=tf.resource, name=None)\n",
      "  2540992625552: TensorSpec(shape=(), dtype=tf.resource, name=None)\n",
      "  2540992623440: TensorSpec(shape=(), dtype=tf.resource, name=None)\n",
      "  2540992626320: TensorSpec(shape=(), dtype=tf.resource, name=None)\n",
      "  2540992625744: TensorSpec(shape=(), dtype=tf.resource, name=None)\n",
      "  2540992626512: TensorSpec(shape=(), dtype=tf.resource, name=None)\n",
      "  2540992625936: TensorSpec(shape=(), dtype=tf.resource, name=None)\n",
      "  2540992970832: TensorSpec(shape=(), dtype=tf.resource, name=None)\n",
      "  2540992971216: TensorSpec(shape=(), dtype=tf.resource, name=None)\n",
      "  2540992624400: TensorSpec(shape=(), dtype=tf.resource, name=None)\n",
      "  2540992625360: TensorSpec(shape=(), dtype=tf.resource, name=None)\n",
      "  2540992971024: TensorSpec(shape=(), dtype=tf.resource, name=None)\n",
      "  2540992971984: TensorSpec(shape=(), dtype=tf.resource, name=None)\n",
      "  2540992971792: TensorSpec(shape=(), dtype=tf.resource, name=None)\n",
      "  2540992971408: TensorSpec(shape=(), dtype=tf.resource, name=None)\n",
      "  2540992973136: TensorSpec(shape=(), dtype=tf.resource, name=None)\n",
      "  2540992972560: TensorSpec(shape=(), dtype=tf.resource, name=None)\n",
      "  2540992972752: TensorSpec(shape=(), dtype=tf.resource, name=None)\n",
      "  2540992972944: TensorSpec(shape=(), dtype=tf.resource, name=None)\n",
      "  2540992972176: TensorSpec(shape=(), dtype=tf.resource, name=None)\n",
      "  2540992974096: TensorSpec(shape=(), dtype=tf.resource, name=None)\n",
      "  2540992973520: TensorSpec(shape=(), dtype=tf.resource, name=None)\n",
      "  2540992973712: TensorSpec(shape=(), dtype=tf.resource, name=None)\n",
      "  2540992973904: TensorSpec(shape=(), dtype=tf.resource, name=None)\n",
      "  2540992971600: TensorSpec(shape=(), dtype=tf.resource, name=None)\n",
      "  2540992975056: TensorSpec(shape=(), dtype=tf.resource, name=None)\n",
      "  2540992974480: TensorSpec(shape=(), dtype=tf.resource, name=None)\n",
      "  2540992974672: TensorSpec(shape=(), dtype=tf.resource, name=None)\n",
      "  2540992974864: TensorSpec(shape=(), dtype=tf.resource, name=None)\n",
      "  2540992972368: TensorSpec(shape=(), dtype=tf.resource, name=None)\n",
      "  2540992976016: TensorSpec(shape=(), dtype=tf.resource, name=None)\n",
      "  2540992976592: TensorSpec(shape=(), dtype=tf.resource, name=None)\n",
      "  2540992976784: TensorSpec(shape=(), dtype=tf.resource, name=None)\n",
      "  2540992976208: TensorSpec(shape=(), dtype=tf.resource, name=None)\n",
      "  2540992976400: TensorSpec(shape=(), dtype=tf.resource, name=None)\n",
      "  2540992975440: TensorSpec(shape=(), dtype=tf.resource, name=None)\n",
      "  2540992973328: TensorSpec(shape=(), dtype=tf.resource, name=None)\n",
      "  2540992977552: TensorSpec(shape=(), dtype=tf.resource, name=None)\n",
      "  2540992976976: TensorSpec(shape=(), dtype=tf.resource, name=None)\n"
     ]
    },
    {
     "name": "stderr",
     "output_type": "stream",
     "text": [
      "e:\\PROJECTS\\Krishi-Sahayak\\krishi-model\\venv\\Lib\\site-packages\\tensorflow\\lite\\python\\convert.py:863: UserWarning: Statistics for quantized inputs were expected, but not specified; continuing anyway.\n",
      "  warnings.warn(\n"
     ]
    }
   ],
   "source": [
    "converter = tf.lite.TFLiteConverter.from_keras_model(model)\n",
    "\n",
    "# Post-training quantization\n",
    "converter.optimizations = [tf.lite.Optimize.DEFAULT]\n",
    "\n",
    "# Optional: full integer quantization using train_generator\n",
    "def representative_dataset():\n",
    "    for i, (images, labels) in enumerate(train_generator):\n",
    "        if i >= 100:  # use first 100 batches\n",
    "            break\n",
    "        yield [images.astype(np.float32)]\n",
    "\n",
    "converter.representative_dataset = representative_dataset\n",
    "converter.target_spec.supported_ops = [tf.lite.OpsSet.TFLITE_BUILTINS_INT8]\n",
    "converter.inference_input_type = tf.uint8\n",
    "converter.inference_output_type = tf.uint8\n",
    "\n",
    "tflite_model = converter.convert()"
   ]
  },
  {
   "cell_type": "code",
   "execution_count": 17,
   "id": "31dbacfd",
   "metadata": {},
   "outputs": [
    {
     "name": "stdout",
     "output_type": "stream",
     "text": [
      "Pruned + quantized TFLite model saved!\n"
     ]
    }
   ],
   "source": [
    "with open(\"model_pruned_quantized.tflite\", \"wb\") as f:\n",
    "    f.write(tflite_model)\n",
    "\n",
    "print(\"Pruned + quantized TFLite model saved!\")"
   ]
  }
 ],
 "metadata": {
  "kernelspec": {
   "display_name": "venv",
   "language": "python",
   "name": "python3"
  },
  "language_info": {
   "codemirror_mode": {
    "name": "ipython",
    "version": 3
   },
   "file_extension": ".py",
   "mimetype": "text/x-python",
   "name": "python",
   "nbconvert_exporter": "python",
   "pygments_lexer": "ipython3",
   "version": "3.11.9"
  }
 },
 "nbformat": 4,
 "nbformat_minor": 5
}
